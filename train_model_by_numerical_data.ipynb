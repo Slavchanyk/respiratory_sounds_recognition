{
 "cells": [
  {
   "cell_type": "code",
   "execution_count": 1,
   "metadata": {
    "_cell_guid": "b1076dfc-b9ad-4769-8c92-a6c4dae69d19",
    "_uuid": "8f2839f25d086af736a60e9eeb907d3b93b6e0e5",
    "execution": {
     "iopub.execute_input": "2021-03-09T09:12:25.730693Z",
     "iopub.status.busy": "2021-03-09T09:12:25.729867Z",
     "iopub.status.idle": "2021-03-09T09:12:27.201740Z",
     "shell.execute_reply": "2021-03-09T09:12:27.202253Z"
    },
    "papermill": {
     "duration": 1.490122,
     "end_time": "2021-03-09T09:12:27.202617",
     "exception": false,
     "start_time": "2021-03-09T09:12:25.712495",
     "status": "completed"
    },
    "tags": []
   },
   "outputs": [],
   "source": [
    "import numpy as np \n",
    "import pandas as pd \n",
    "import pickle\n",
    "\n",
    "from sklearn.preprocessing import LabelEncoder \n",
    "from sklearn.ensemble import GradientBoostingClassifier\n",
    "from sklearn.metrics import confusion_matrix, classification_report\n",
    "from sklearn.model_selection import train_test_split\n"
   ]
  },
  {
   "cell_type": "markdown",
   "metadata": {
    "papermill": {
     "duration": 0.010165,
     "end_time": "2021-03-09T09:12:27.224792",
     "exception": false,
     "start_time": "2021-03-09T09:12:27.214627",
     "status": "completed"
    },
    "tags": []
   },
   "source": [
    "# **SOME DEFAULT FUNCTIONS**"
   ]
  },
  {
   "cell_type": "code",
   "execution_count": 2,
   "metadata": {
    "execution": {
     "iopub.execute_input": "2021-03-09T09:12:27.249479Z",
     "iopub.status.busy": "2021-03-09T09:12:27.248542Z",
     "iopub.status.idle": "2021-03-09T09:12:27.254706Z",
     "shell.execute_reply": "2021-03-09T09:12:27.254191Z"
    },
    "papermill": {
     "duration": 0.019674,
     "end_time": "2021-03-09T09:12:27.254867",
     "exception": false,
     "start_time": "2021-03-09T09:12:27.235193",
     "status": "completed"
    },
    "tags": []
   },
   "outputs": [],
   "source": [
    "def convert_probability_to_1_0_score(y_pred_proba, threshold):\n",
    "    y_pred = np.zeros(y_pred_proba.shape[0])\n",
    "    for i in range(y_pred_proba.shape[0]):\n",
    "        if y_pred_proba[i][1] >= threshold:\n",
    "            y_pred[i] = 1\n",
    "    return y_pred"
   ]
  },
  {
   "cell_type": "code",
   "execution_count": 3,
   "metadata": {
    "execution": {
     "iopub.execute_input": "2021-03-09T09:12:27.281797Z",
     "iopub.status.busy": "2021-03-09T09:12:27.281132Z",
     "iopub.status.idle": "2021-03-09T09:12:27.284139Z",
     "shell.execute_reply": "2021-03-09T09:12:27.283698Z"
    },
    "papermill": {
     "duration": 0.018813,
     "end_time": "2021-03-09T09:12:27.284274",
     "exception": false,
     "start_time": "2021-03-09T09:12:27.265461",
     "status": "completed"
    },
    "tags": []
   },
   "outputs": [],
   "source": [
    "def convert_categorical_data_to_numerical(df, categorical_columns):\n",
    "    for column in categorical_columns:\n",
    "        number = LabelEncoder()\n",
    "        df[column] = number.fit_transform(df[column].astype('str')).astype(float)\n",
    "        le_name_mapping = dict(zip(number.classes_, number.transform(number.classes_)))\n",
    "        print(column)\n",
    "        print(le_name_mapping)"
   ]
  },
  {
   "cell_type": "markdown",
   "metadata": {
    "papermill": {
     "duration": 0.01046,
     "end_time": "2021-03-09T09:12:27.305407",
     "exception": false,
     "start_time": "2021-03-09T09:12:27.294947",
     "status": "completed"
    },
    "tags": []
   },
   "source": [
    "# **GLOBAL VARIABLES**"
   ]
  },
  {
   "cell_type": "code",
   "execution_count": 4,
   "metadata": {
    "execution": {
     "iopub.execute_input": "2021-03-09T09:12:27.333499Z",
     "iopub.status.busy": "2021-03-09T09:12:27.332876Z",
     "iopub.status.idle": "2021-03-09T09:12:27.335240Z",
     "shell.execute_reply": "2021-03-09T09:12:27.335702Z"
    },
    "papermill": {
     "duration": 0.019191,
     "end_time": "2021-03-09T09:12:27.335894",
     "exception": false,
     "start_time": "2021-03-09T09:12:27.316703",
     "status": "completed"
    },
    "tags": []
   },
   "outputs": [],
   "source": [
    "FEATURES = ['is_Al', 'Al_crackles', 'Al_wheezes', 'is_Ar', 'Ar_crackles', 'Ar_wheezes', 'is_Pl', \n",
    "            'Pl_crackles', 'Pl_wheezes', 'is_Pr', 'Pr_crackles', 'Pr_wheezes', 'is_Ll', 'Ll_crackles', \n",
    "            'Ll_wheezes', 'is_Lr', 'Lr_crackles', 'Lr_wheezes', 'is_Tc', 'Tc_crackles', 'Tc_wheezes', \n",
    "            'age', 'sex', 'adult_bmi', 'child_weight', 'child_height']\n",
    "CATEGORICAL_COLUMNS = ['sex']\n",
    "PATH_TO_PATIENT_INFO_DF = '/kaggle/input/notebookd311de3272/train_data.csv'\n",
    "TEST_SIZE = 0.1\n",
    "MAX_ITERATIONS = 500\n",
    "THRESHOLD = 0.5\n",
    "FILE_NAME_TO_SAVE_MODEL = \"is_healthy_model.pkl\"\n"
   ]
  },
  {
   "cell_type": "markdown",
   "metadata": {
    "papermill": {
     "duration": 0.010599,
     "end_time": "2021-03-09T09:12:27.357266",
     "exception": false,
     "start_time": "2021-03-09T09:12:27.346667",
     "status": "completed"
    },
    "tags": []
   },
   "source": [
    "# **READING DATASET**"
   ]
  },
  {
   "cell_type": "code",
   "execution_count": 5,
   "metadata": {
    "execution": {
     "iopub.execute_input": "2021-03-09T09:12:27.382481Z",
     "iopub.status.busy": "2021-03-09T09:12:27.381719Z",
     "iopub.status.idle": "2021-03-09T09:12:27.458996Z",
     "shell.execute_reply": "2021-03-09T09:12:27.459492Z"
    },
    "papermill": {
     "duration": 0.091511,
     "end_time": "2021-03-09T09:12:27.459665",
     "exception": false,
     "start_time": "2021-03-09T09:12:27.368154",
     "status": "completed"
    },
    "tags": []
   },
   "outputs": [
    {
     "data": {
      "text/html": [
       "<div>\n",
       "<style scoped>\n",
       "    .dataframe tbody tr th:only-of-type {\n",
       "        vertical-align: middle;\n",
       "    }\n",
       "\n",
       "    .dataframe tbody tr th {\n",
       "        vertical-align: top;\n",
       "    }\n",
       "\n",
       "    .dataframe thead th {\n",
       "        text-align: right;\n",
       "    }\n",
       "</style>\n",
       "<table border=\"1\" class=\"dataframe\">\n",
       "  <thead>\n",
       "    <tr style=\"text-align: right;\">\n",
       "      <th></th>\n",
       "      <th>Unnamed: 0</th>\n",
       "      <th>pid</th>\n",
       "      <th>is_Al</th>\n",
       "      <th>Al_crackles</th>\n",
       "      <th>Al_wheezes</th>\n",
       "      <th>is_Ar</th>\n",
       "      <th>Ar_crackles</th>\n",
       "      <th>Ar_wheezes</th>\n",
       "      <th>is_Pl</th>\n",
       "      <th>Pl_crackles</th>\n",
       "      <th>...</th>\n",
       "      <th>Lr_wheezes</th>\n",
       "      <th>is_Tc</th>\n",
       "      <th>Tc_crackles</th>\n",
       "      <th>Tc_wheezes</th>\n",
       "      <th>age</th>\n",
       "      <th>sex</th>\n",
       "      <th>adult_bmi</th>\n",
       "      <th>child_weight</th>\n",
       "      <th>child_height</th>\n",
       "      <th>disease</th>\n",
       "    </tr>\n",
       "  </thead>\n",
       "  <tbody>\n",
       "    <tr>\n",
       "      <th>0</th>\n",
       "      <td>0</td>\n",
       "      <td>101</td>\n",
       "      <td>True</td>\n",
       "      <td>0.0</td>\n",
       "      <td>0.0</td>\n",
       "      <td>False</td>\n",
       "      <td>0.0</td>\n",
       "      <td>0.000000</td>\n",
       "      <td>False</td>\n",
       "      <td>0.000000</td>\n",
       "      <td>...</td>\n",
       "      <td>0.0</td>\n",
       "      <td>False</td>\n",
       "      <td>0.0</td>\n",
       "      <td>0.0</td>\n",
       "      <td>3.00</td>\n",
       "      <td>F</td>\n",
       "      <td>0.00</td>\n",
       "      <td>19.0</td>\n",
       "      <td>99.0</td>\n",
       "      <td>URTI</td>\n",
       "    </tr>\n",
       "    <tr>\n",
       "      <th>1</th>\n",
       "      <td>1</td>\n",
       "      <td>102</td>\n",
       "      <td>False</td>\n",
       "      <td>0.0</td>\n",
       "      <td>0.0</td>\n",
       "      <td>True</td>\n",
       "      <td>0.0</td>\n",
       "      <td>0.000000</td>\n",
       "      <td>False</td>\n",
       "      <td>0.000000</td>\n",
       "      <td>...</td>\n",
       "      <td>0.0</td>\n",
       "      <td>False</td>\n",
       "      <td>0.0</td>\n",
       "      <td>0.0</td>\n",
       "      <td>0.75</td>\n",
       "      <td>F</td>\n",
       "      <td>0.00</td>\n",
       "      <td>9.8</td>\n",
       "      <td>73.0</td>\n",
       "      <td>Healthy</td>\n",
       "    </tr>\n",
       "    <tr>\n",
       "      <th>2</th>\n",
       "      <td>2</td>\n",
       "      <td>103</td>\n",
       "      <td>False</td>\n",
       "      <td>0.0</td>\n",
       "      <td>0.0</td>\n",
       "      <td>True</td>\n",
       "      <td>0.0</td>\n",
       "      <td>0.666667</td>\n",
       "      <td>False</td>\n",
       "      <td>0.000000</td>\n",
       "      <td>...</td>\n",
       "      <td>0.0</td>\n",
       "      <td>False</td>\n",
       "      <td>0.0</td>\n",
       "      <td>0.0</td>\n",
       "      <td>70.00</td>\n",
       "      <td>F</td>\n",
       "      <td>33.00</td>\n",
       "      <td>0.0</td>\n",
       "      <td>0.0</td>\n",
       "      <td>Asthma</td>\n",
       "    </tr>\n",
       "    <tr>\n",
       "      <th>3</th>\n",
       "      <td>3</td>\n",
       "      <td>104</td>\n",
       "      <td>True</td>\n",
       "      <td>0.0</td>\n",
       "      <td>0.0</td>\n",
       "      <td>True</td>\n",
       "      <td>0.0</td>\n",
       "      <td>0.714286</td>\n",
       "      <td>True</td>\n",
       "      <td>0.000000</td>\n",
       "      <td>...</td>\n",
       "      <td>0.0</td>\n",
       "      <td>False</td>\n",
       "      <td>0.0</td>\n",
       "      <td>0.0</td>\n",
       "      <td>70.00</td>\n",
       "      <td>F</td>\n",
       "      <td>28.47</td>\n",
       "      <td>0.0</td>\n",
       "      <td>0.0</td>\n",
       "      <td>COPD</td>\n",
       "    </tr>\n",
       "    <tr>\n",
       "      <th>4</th>\n",
       "      <td>4</td>\n",
       "      <td>105</td>\n",
       "      <td>False</td>\n",
       "      <td>0.0</td>\n",
       "      <td>0.0</td>\n",
       "      <td>False</td>\n",
       "      <td>0.0</td>\n",
       "      <td>0.000000</td>\n",
       "      <td>False</td>\n",
       "      <td>0.000000</td>\n",
       "      <td>...</td>\n",
       "      <td>0.0</td>\n",
       "      <td>True</td>\n",
       "      <td>0.0</td>\n",
       "      <td>0.0</td>\n",
       "      <td>7.00</td>\n",
       "      <td>F</td>\n",
       "      <td>0.00</td>\n",
       "      <td>32.0</td>\n",
       "      <td>135.0</td>\n",
       "      <td>URTI</td>\n",
       "    </tr>\n",
       "    <tr>\n",
       "      <th>...</th>\n",
       "      <td>...</td>\n",
       "      <td>...</td>\n",
       "      <td>...</td>\n",
       "      <td>...</td>\n",
       "      <td>...</td>\n",
       "      <td>...</td>\n",
       "      <td>...</td>\n",
       "      <td>...</td>\n",
       "      <td>...</td>\n",
       "      <td>...</td>\n",
       "      <td>...</td>\n",
       "      <td>...</td>\n",
       "      <td>...</td>\n",
       "      <td>...</td>\n",
       "      <td>...</td>\n",
       "      <td>...</td>\n",
       "      <td>...</td>\n",
       "      <td>...</td>\n",
       "      <td>...</td>\n",
       "      <td>...</td>\n",
       "      <td>...</td>\n",
       "    </tr>\n",
       "    <tr>\n",
       "      <th>121</th>\n",
       "      <td>121</td>\n",
       "      <td>222</td>\n",
       "      <td>False</td>\n",
       "      <td>0.0</td>\n",
       "      <td>0.0</td>\n",
       "      <td>True</td>\n",
       "      <td>0.0</td>\n",
       "      <td>0.000000</td>\n",
       "      <td>False</td>\n",
       "      <td>0.000000</td>\n",
       "      <td>...</td>\n",
       "      <td>0.0</td>\n",
       "      <td>False</td>\n",
       "      <td>0.0</td>\n",
       "      <td>0.0</td>\n",
       "      <td>60.00</td>\n",
       "      <td>M</td>\n",
       "      <td>0.00</td>\n",
       "      <td>0.0</td>\n",
       "      <td>0.0</td>\n",
       "      <td>COPD</td>\n",
       "    </tr>\n",
       "    <tr>\n",
       "      <th>122</th>\n",
       "      <td>122</td>\n",
       "      <td>223</td>\n",
       "      <td>True</td>\n",
       "      <td>0.0</td>\n",
       "      <td>0.0</td>\n",
       "      <td>True</td>\n",
       "      <td>0.0</td>\n",
       "      <td>1.000000</td>\n",
       "      <td>True</td>\n",
       "      <td>0.000000</td>\n",
       "      <td>...</td>\n",
       "      <td>0.0</td>\n",
       "      <td>False</td>\n",
       "      <td>0.0</td>\n",
       "      <td>0.0</td>\n",
       "      <td>0.00</td>\n",
       "      <td>0</td>\n",
       "      <td>0.00</td>\n",
       "      <td>0.0</td>\n",
       "      <td>0.0</td>\n",
       "      <td>COPD</td>\n",
       "    </tr>\n",
       "    <tr>\n",
       "      <th>123</th>\n",
       "      <td>123</td>\n",
       "      <td>224</td>\n",
       "      <td>True</td>\n",
       "      <td>0.0</td>\n",
       "      <td>0.0</td>\n",
       "      <td>False</td>\n",
       "      <td>0.0</td>\n",
       "      <td>0.000000</td>\n",
       "      <td>False</td>\n",
       "      <td>0.000000</td>\n",
       "      <td>...</td>\n",
       "      <td>0.0</td>\n",
       "      <td>True</td>\n",
       "      <td>0.0</td>\n",
       "      <td>0.0</td>\n",
       "      <td>10.00</td>\n",
       "      <td>F</td>\n",
       "      <td>0.00</td>\n",
       "      <td>32.3</td>\n",
       "      <td>143.0</td>\n",
       "      <td>Healthy</td>\n",
       "    </tr>\n",
       "    <tr>\n",
       "      <th>124</th>\n",
       "      <td>124</td>\n",
       "      <td>225</td>\n",
       "      <td>False</td>\n",
       "      <td>0.0</td>\n",
       "      <td>0.0</td>\n",
       "      <td>False</td>\n",
       "      <td>0.0</td>\n",
       "      <td>0.000000</td>\n",
       "      <td>True</td>\n",
       "      <td>0.000000</td>\n",
       "      <td>...</td>\n",
       "      <td>0.0</td>\n",
       "      <td>False</td>\n",
       "      <td>0.0</td>\n",
       "      <td>0.0</td>\n",
       "      <td>0.83</td>\n",
       "      <td>M</td>\n",
       "      <td>0.00</td>\n",
       "      <td>7.8</td>\n",
       "      <td>74.0</td>\n",
       "      <td>Healthy</td>\n",
       "    </tr>\n",
       "    <tr>\n",
       "      <th>125</th>\n",
       "      <td>125</td>\n",
       "      <td>226</td>\n",
       "      <td>True</td>\n",
       "      <td>0.2</td>\n",
       "      <td>0.0</td>\n",
       "      <td>False</td>\n",
       "      <td>0.0</td>\n",
       "      <td>0.000000</td>\n",
       "      <td>True</td>\n",
       "      <td>0.454545</td>\n",
       "      <td>...</td>\n",
       "      <td>0.0</td>\n",
       "      <td>False</td>\n",
       "      <td>0.0</td>\n",
       "      <td>0.0</td>\n",
       "      <td>4.00</td>\n",
       "      <td>M</td>\n",
       "      <td>0.00</td>\n",
       "      <td>16.7</td>\n",
       "      <td>103.0</td>\n",
       "      <td>Pneumonia</td>\n",
       "    </tr>\n",
       "  </tbody>\n",
       "</table>\n",
       "<p>126 rows × 29 columns</p>\n",
       "</div>"
      ],
      "text/plain": [
       "     Unnamed: 0  pid  is_Al  Al_crackles  Al_wheezes  is_Ar  Ar_crackles  \\\n",
       "0             0  101   True          0.0         0.0  False          0.0   \n",
       "1             1  102  False          0.0         0.0   True          0.0   \n",
       "2             2  103  False          0.0         0.0   True          0.0   \n",
       "3             3  104   True          0.0         0.0   True          0.0   \n",
       "4             4  105  False          0.0         0.0  False          0.0   \n",
       "..          ...  ...    ...          ...         ...    ...          ...   \n",
       "121         121  222  False          0.0         0.0   True          0.0   \n",
       "122         122  223   True          0.0         0.0   True          0.0   \n",
       "123         123  224   True          0.0         0.0  False          0.0   \n",
       "124         124  225  False          0.0         0.0  False          0.0   \n",
       "125         125  226   True          0.2         0.0  False          0.0   \n",
       "\n",
       "     Ar_wheezes  is_Pl  Pl_crackles  ...  Lr_wheezes  is_Tc  Tc_crackles  \\\n",
       "0      0.000000  False     0.000000  ...         0.0  False          0.0   \n",
       "1      0.000000  False     0.000000  ...         0.0  False          0.0   \n",
       "2      0.666667  False     0.000000  ...         0.0  False          0.0   \n",
       "3      0.714286   True     0.000000  ...         0.0  False          0.0   \n",
       "4      0.000000  False     0.000000  ...         0.0   True          0.0   \n",
       "..          ...    ...          ...  ...         ...    ...          ...   \n",
       "121    0.000000  False     0.000000  ...         0.0  False          0.0   \n",
       "122    1.000000   True     0.000000  ...         0.0  False          0.0   \n",
       "123    0.000000  False     0.000000  ...         0.0   True          0.0   \n",
       "124    0.000000   True     0.000000  ...         0.0  False          0.0   \n",
       "125    0.000000   True     0.454545  ...         0.0  False          0.0   \n",
       "\n",
       "     Tc_wheezes    age  sex  adult_bmi  child_weight  child_height    disease  \n",
       "0           0.0   3.00    F       0.00          19.0          99.0       URTI  \n",
       "1           0.0   0.75    F       0.00           9.8          73.0    Healthy  \n",
       "2           0.0  70.00    F      33.00           0.0           0.0     Asthma  \n",
       "3           0.0  70.00    F      28.47           0.0           0.0       COPD  \n",
       "4           0.0   7.00    F       0.00          32.0         135.0       URTI  \n",
       "..          ...    ...  ...        ...           ...           ...        ...  \n",
       "121         0.0  60.00    M       0.00           0.0           0.0       COPD  \n",
       "122         0.0   0.00    0       0.00           0.0           0.0       COPD  \n",
       "123         0.0  10.00    F       0.00          32.3         143.0    Healthy  \n",
       "124         0.0   0.83    M       0.00           7.8          74.0    Healthy  \n",
       "125         0.0   4.00    M       0.00          16.7         103.0  Pneumonia  \n",
       "\n",
       "[126 rows x 29 columns]"
      ]
     },
     "execution_count": 5,
     "metadata": {},
     "output_type": "execute_result"
    }
   ],
   "source": [
    "patient_info_df = pd.read_csv(PATH_TO_PATIENT_INFO_DF)\n",
    "patient_info_df"
   ]
  },
  {
   "cell_type": "markdown",
   "metadata": {
    "papermill": {
     "duration": 0.012357,
     "end_time": "2021-03-09T09:12:27.484119",
     "exception": false,
     "start_time": "2021-03-09T09:12:27.471762",
     "status": "completed"
    },
    "tags": []
   },
   "source": [
    "# **CONVERTING CATEGORICAL VALUES**"
   ]
  },
  {
   "cell_type": "code",
   "execution_count": 6,
   "metadata": {
    "execution": {
     "iopub.execute_input": "2021-03-09T09:12:27.525500Z",
     "iopub.status.busy": "2021-03-09T09:12:27.512442Z",
     "iopub.status.idle": "2021-03-09T09:12:27.557168Z",
     "shell.execute_reply": "2021-03-09T09:12:27.556551Z"
    },
    "papermill": {
     "duration": 0.061762,
     "end_time": "2021-03-09T09:12:27.557339",
     "exception": false,
     "start_time": "2021-03-09T09:12:27.495577",
     "status": "completed"
    },
    "tags": []
   },
   "outputs": [
    {
     "name": "stdout",
     "output_type": "stream",
     "text": [
      "sex\n",
      "{'0': 0, 'F': 1, 'M': 2}\n"
     ]
    },
    {
     "data": {
      "text/html": [
       "<div>\n",
       "<style scoped>\n",
       "    .dataframe tbody tr th:only-of-type {\n",
       "        vertical-align: middle;\n",
       "    }\n",
       "\n",
       "    .dataframe tbody tr th {\n",
       "        vertical-align: top;\n",
       "    }\n",
       "\n",
       "    .dataframe thead th {\n",
       "        text-align: right;\n",
       "    }\n",
       "</style>\n",
       "<table border=\"1\" class=\"dataframe\">\n",
       "  <thead>\n",
       "    <tr style=\"text-align: right;\">\n",
       "      <th></th>\n",
       "      <th>Unnamed: 0</th>\n",
       "      <th>pid</th>\n",
       "      <th>is_Al</th>\n",
       "      <th>Al_crackles</th>\n",
       "      <th>Al_wheezes</th>\n",
       "      <th>is_Ar</th>\n",
       "      <th>Ar_crackles</th>\n",
       "      <th>Ar_wheezes</th>\n",
       "      <th>is_Pl</th>\n",
       "      <th>Pl_crackles</th>\n",
       "      <th>...</th>\n",
       "      <th>Lr_wheezes</th>\n",
       "      <th>is_Tc</th>\n",
       "      <th>Tc_crackles</th>\n",
       "      <th>Tc_wheezes</th>\n",
       "      <th>age</th>\n",
       "      <th>sex</th>\n",
       "      <th>adult_bmi</th>\n",
       "      <th>child_weight</th>\n",
       "      <th>child_height</th>\n",
       "      <th>disease</th>\n",
       "    </tr>\n",
       "  </thead>\n",
       "  <tbody>\n",
       "    <tr>\n",
       "      <th>0</th>\n",
       "      <td>0</td>\n",
       "      <td>101</td>\n",
       "      <td>True</td>\n",
       "      <td>0.0</td>\n",
       "      <td>0.0</td>\n",
       "      <td>False</td>\n",
       "      <td>0.0</td>\n",
       "      <td>0.000000</td>\n",
       "      <td>False</td>\n",
       "      <td>0.000000</td>\n",
       "      <td>...</td>\n",
       "      <td>0.0</td>\n",
       "      <td>False</td>\n",
       "      <td>0.0</td>\n",
       "      <td>0.0</td>\n",
       "      <td>3.00</td>\n",
       "      <td>1.0</td>\n",
       "      <td>0.00</td>\n",
       "      <td>19.0</td>\n",
       "      <td>99.0</td>\n",
       "      <td>URTI</td>\n",
       "    </tr>\n",
       "    <tr>\n",
       "      <th>1</th>\n",
       "      <td>1</td>\n",
       "      <td>102</td>\n",
       "      <td>False</td>\n",
       "      <td>0.0</td>\n",
       "      <td>0.0</td>\n",
       "      <td>True</td>\n",
       "      <td>0.0</td>\n",
       "      <td>0.000000</td>\n",
       "      <td>False</td>\n",
       "      <td>0.000000</td>\n",
       "      <td>...</td>\n",
       "      <td>0.0</td>\n",
       "      <td>False</td>\n",
       "      <td>0.0</td>\n",
       "      <td>0.0</td>\n",
       "      <td>0.75</td>\n",
       "      <td>1.0</td>\n",
       "      <td>0.00</td>\n",
       "      <td>9.8</td>\n",
       "      <td>73.0</td>\n",
       "      <td>Healthy</td>\n",
       "    </tr>\n",
       "    <tr>\n",
       "      <th>2</th>\n",
       "      <td>2</td>\n",
       "      <td>103</td>\n",
       "      <td>False</td>\n",
       "      <td>0.0</td>\n",
       "      <td>0.0</td>\n",
       "      <td>True</td>\n",
       "      <td>0.0</td>\n",
       "      <td>0.666667</td>\n",
       "      <td>False</td>\n",
       "      <td>0.000000</td>\n",
       "      <td>...</td>\n",
       "      <td>0.0</td>\n",
       "      <td>False</td>\n",
       "      <td>0.0</td>\n",
       "      <td>0.0</td>\n",
       "      <td>70.00</td>\n",
       "      <td>1.0</td>\n",
       "      <td>33.00</td>\n",
       "      <td>0.0</td>\n",
       "      <td>0.0</td>\n",
       "      <td>Asthma</td>\n",
       "    </tr>\n",
       "    <tr>\n",
       "      <th>3</th>\n",
       "      <td>3</td>\n",
       "      <td>104</td>\n",
       "      <td>True</td>\n",
       "      <td>0.0</td>\n",
       "      <td>0.0</td>\n",
       "      <td>True</td>\n",
       "      <td>0.0</td>\n",
       "      <td>0.714286</td>\n",
       "      <td>True</td>\n",
       "      <td>0.000000</td>\n",
       "      <td>...</td>\n",
       "      <td>0.0</td>\n",
       "      <td>False</td>\n",
       "      <td>0.0</td>\n",
       "      <td>0.0</td>\n",
       "      <td>70.00</td>\n",
       "      <td>1.0</td>\n",
       "      <td>28.47</td>\n",
       "      <td>0.0</td>\n",
       "      <td>0.0</td>\n",
       "      <td>COPD</td>\n",
       "    </tr>\n",
       "    <tr>\n",
       "      <th>4</th>\n",
       "      <td>4</td>\n",
       "      <td>105</td>\n",
       "      <td>False</td>\n",
       "      <td>0.0</td>\n",
       "      <td>0.0</td>\n",
       "      <td>False</td>\n",
       "      <td>0.0</td>\n",
       "      <td>0.000000</td>\n",
       "      <td>False</td>\n",
       "      <td>0.000000</td>\n",
       "      <td>...</td>\n",
       "      <td>0.0</td>\n",
       "      <td>True</td>\n",
       "      <td>0.0</td>\n",
       "      <td>0.0</td>\n",
       "      <td>7.00</td>\n",
       "      <td>1.0</td>\n",
       "      <td>0.00</td>\n",
       "      <td>32.0</td>\n",
       "      <td>135.0</td>\n",
       "      <td>URTI</td>\n",
       "    </tr>\n",
       "    <tr>\n",
       "      <th>...</th>\n",
       "      <td>...</td>\n",
       "      <td>...</td>\n",
       "      <td>...</td>\n",
       "      <td>...</td>\n",
       "      <td>...</td>\n",
       "      <td>...</td>\n",
       "      <td>...</td>\n",
       "      <td>...</td>\n",
       "      <td>...</td>\n",
       "      <td>...</td>\n",
       "      <td>...</td>\n",
       "      <td>...</td>\n",
       "      <td>...</td>\n",
       "      <td>...</td>\n",
       "      <td>...</td>\n",
       "      <td>...</td>\n",
       "      <td>...</td>\n",
       "      <td>...</td>\n",
       "      <td>...</td>\n",
       "      <td>...</td>\n",
       "      <td>...</td>\n",
       "    </tr>\n",
       "    <tr>\n",
       "      <th>121</th>\n",
       "      <td>121</td>\n",
       "      <td>222</td>\n",
       "      <td>False</td>\n",
       "      <td>0.0</td>\n",
       "      <td>0.0</td>\n",
       "      <td>True</td>\n",
       "      <td>0.0</td>\n",
       "      <td>0.000000</td>\n",
       "      <td>False</td>\n",
       "      <td>0.000000</td>\n",
       "      <td>...</td>\n",
       "      <td>0.0</td>\n",
       "      <td>False</td>\n",
       "      <td>0.0</td>\n",
       "      <td>0.0</td>\n",
       "      <td>60.00</td>\n",
       "      <td>2.0</td>\n",
       "      <td>0.00</td>\n",
       "      <td>0.0</td>\n",
       "      <td>0.0</td>\n",
       "      <td>COPD</td>\n",
       "    </tr>\n",
       "    <tr>\n",
       "      <th>122</th>\n",
       "      <td>122</td>\n",
       "      <td>223</td>\n",
       "      <td>True</td>\n",
       "      <td>0.0</td>\n",
       "      <td>0.0</td>\n",
       "      <td>True</td>\n",
       "      <td>0.0</td>\n",
       "      <td>1.000000</td>\n",
       "      <td>True</td>\n",
       "      <td>0.000000</td>\n",
       "      <td>...</td>\n",
       "      <td>0.0</td>\n",
       "      <td>False</td>\n",
       "      <td>0.0</td>\n",
       "      <td>0.0</td>\n",
       "      <td>0.00</td>\n",
       "      <td>0.0</td>\n",
       "      <td>0.00</td>\n",
       "      <td>0.0</td>\n",
       "      <td>0.0</td>\n",
       "      <td>COPD</td>\n",
       "    </tr>\n",
       "    <tr>\n",
       "      <th>123</th>\n",
       "      <td>123</td>\n",
       "      <td>224</td>\n",
       "      <td>True</td>\n",
       "      <td>0.0</td>\n",
       "      <td>0.0</td>\n",
       "      <td>False</td>\n",
       "      <td>0.0</td>\n",
       "      <td>0.000000</td>\n",
       "      <td>False</td>\n",
       "      <td>0.000000</td>\n",
       "      <td>...</td>\n",
       "      <td>0.0</td>\n",
       "      <td>True</td>\n",
       "      <td>0.0</td>\n",
       "      <td>0.0</td>\n",
       "      <td>10.00</td>\n",
       "      <td>1.0</td>\n",
       "      <td>0.00</td>\n",
       "      <td>32.3</td>\n",
       "      <td>143.0</td>\n",
       "      <td>Healthy</td>\n",
       "    </tr>\n",
       "    <tr>\n",
       "      <th>124</th>\n",
       "      <td>124</td>\n",
       "      <td>225</td>\n",
       "      <td>False</td>\n",
       "      <td>0.0</td>\n",
       "      <td>0.0</td>\n",
       "      <td>False</td>\n",
       "      <td>0.0</td>\n",
       "      <td>0.000000</td>\n",
       "      <td>True</td>\n",
       "      <td>0.000000</td>\n",
       "      <td>...</td>\n",
       "      <td>0.0</td>\n",
       "      <td>False</td>\n",
       "      <td>0.0</td>\n",
       "      <td>0.0</td>\n",
       "      <td>0.83</td>\n",
       "      <td>2.0</td>\n",
       "      <td>0.00</td>\n",
       "      <td>7.8</td>\n",
       "      <td>74.0</td>\n",
       "      <td>Healthy</td>\n",
       "    </tr>\n",
       "    <tr>\n",
       "      <th>125</th>\n",
       "      <td>125</td>\n",
       "      <td>226</td>\n",
       "      <td>True</td>\n",
       "      <td>0.2</td>\n",
       "      <td>0.0</td>\n",
       "      <td>False</td>\n",
       "      <td>0.0</td>\n",
       "      <td>0.000000</td>\n",
       "      <td>True</td>\n",
       "      <td>0.454545</td>\n",
       "      <td>...</td>\n",
       "      <td>0.0</td>\n",
       "      <td>False</td>\n",
       "      <td>0.0</td>\n",
       "      <td>0.0</td>\n",
       "      <td>4.00</td>\n",
       "      <td>2.0</td>\n",
       "      <td>0.00</td>\n",
       "      <td>16.7</td>\n",
       "      <td>103.0</td>\n",
       "      <td>Pneumonia</td>\n",
       "    </tr>\n",
       "  </tbody>\n",
       "</table>\n",
       "<p>126 rows × 29 columns</p>\n",
       "</div>"
      ],
      "text/plain": [
       "     Unnamed: 0  pid  is_Al  Al_crackles  Al_wheezes  is_Ar  Ar_crackles  \\\n",
       "0             0  101   True          0.0         0.0  False          0.0   \n",
       "1             1  102  False          0.0         0.0   True          0.0   \n",
       "2             2  103  False          0.0         0.0   True          0.0   \n",
       "3             3  104   True          0.0         0.0   True          0.0   \n",
       "4             4  105  False          0.0         0.0  False          0.0   \n",
       "..          ...  ...    ...          ...         ...    ...          ...   \n",
       "121         121  222  False          0.0         0.0   True          0.0   \n",
       "122         122  223   True          0.0         0.0   True          0.0   \n",
       "123         123  224   True          0.0         0.0  False          0.0   \n",
       "124         124  225  False          0.0         0.0  False          0.0   \n",
       "125         125  226   True          0.2         0.0  False          0.0   \n",
       "\n",
       "     Ar_wheezes  is_Pl  Pl_crackles  ...  Lr_wheezes  is_Tc  Tc_crackles  \\\n",
       "0      0.000000  False     0.000000  ...         0.0  False          0.0   \n",
       "1      0.000000  False     0.000000  ...         0.0  False          0.0   \n",
       "2      0.666667  False     0.000000  ...         0.0  False          0.0   \n",
       "3      0.714286   True     0.000000  ...         0.0  False          0.0   \n",
       "4      0.000000  False     0.000000  ...         0.0   True          0.0   \n",
       "..          ...    ...          ...  ...         ...    ...          ...   \n",
       "121    0.000000  False     0.000000  ...         0.0  False          0.0   \n",
       "122    1.000000   True     0.000000  ...         0.0  False          0.0   \n",
       "123    0.000000  False     0.000000  ...         0.0   True          0.0   \n",
       "124    0.000000   True     0.000000  ...         0.0  False          0.0   \n",
       "125    0.000000   True     0.454545  ...         0.0  False          0.0   \n",
       "\n",
       "     Tc_wheezes    age  sex  adult_bmi  child_weight  child_height    disease  \n",
       "0           0.0   3.00  1.0       0.00          19.0          99.0       URTI  \n",
       "1           0.0   0.75  1.0       0.00           9.8          73.0    Healthy  \n",
       "2           0.0  70.00  1.0      33.00           0.0           0.0     Asthma  \n",
       "3           0.0  70.00  1.0      28.47           0.0           0.0       COPD  \n",
       "4           0.0   7.00  1.0       0.00          32.0         135.0       URTI  \n",
       "..          ...    ...  ...        ...           ...           ...        ...  \n",
       "121         0.0  60.00  2.0       0.00           0.0           0.0       COPD  \n",
       "122         0.0   0.00  0.0       0.00           0.0           0.0       COPD  \n",
       "123         0.0  10.00  1.0       0.00          32.3         143.0    Healthy  \n",
       "124         0.0   0.83  2.0       0.00           7.8          74.0    Healthy  \n",
       "125         0.0   4.00  2.0       0.00          16.7         103.0  Pneumonia  \n",
       "\n",
       "[126 rows x 29 columns]"
      ]
     },
     "execution_count": 6,
     "metadata": {},
     "output_type": "execute_result"
    }
   ],
   "source": [
    "convert_categorical_data_to_numerical(patient_info_df, CATEGORICAL_COLUMNS)\n",
    "patient_info_df"
   ]
  },
  {
   "cell_type": "markdown",
   "metadata": {
    "papermill": {
     "duration": 0.012247,
     "end_time": "2021-03-09T09:12:27.582217",
     "exception": false,
     "start_time": "2021-03-09T09:12:27.569970",
     "status": "completed"
    },
    "tags": []
   },
   "source": [
    "# **LABELS CREATING**"
   ]
  },
  {
   "cell_type": "code",
   "execution_count": 7,
   "metadata": {
    "execution": {
     "iopub.execute_input": "2021-03-09T09:12:27.613242Z",
     "iopub.status.busy": "2021-03-09T09:12:27.612677Z",
     "iopub.status.idle": "2021-03-09T09:12:27.615683Z",
     "shell.execute_reply": "2021-03-09T09:12:27.615066Z"
    },
    "papermill": {
     "duration": 0.020988,
     "end_time": "2021-03-09T09:12:27.615836",
     "exception": false,
     "start_time": "2021-03-09T09:12:27.594848",
     "status": "completed"
    },
    "tags": []
   },
   "outputs": [],
   "source": [
    "patient_info_df['is_healthy'] = [1 if d == 'Healthy' else 0 for d in patient_info_df.disease]"
   ]
  },
  {
   "cell_type": "markdown",
   "metadata": {
    "papermill": {
     "duration": 0.012362,
     "end_time": "2021-03-09T09:12:27.641075",
     "exception": false,
     "start_time": "2021-03-09T09:12:27.628713",
     "status": "completed"
    },
    "tags": []
   },
   "source": [
    "# **SPLITTING DATA INTO TRAIN AND TEST**"
   ]
  },
  {
   "cell_type": "code",
   "execution_count": 8,
   "metadata": {
    "execution": {
     "iopub.execute_input": "2021-03-09T09:12:27.673010Z",
     "iopub.status.busy": "2021-03-09T09:12:27.671697Z",
     "iopub.status.idle": "2021-03-09T09:12:27.678441Z",
     "shell.execute_reply": "2021-03-09T09:12:27.677810Z"
    },
    "papermill": {
     "duration": 0.024707,
     "end_time": "2021-03-09T09:12:27.678582",
     "exception": false,
     "start_time": "2021-03-09T09:12:27.653875",
     "status": "completed"
    },
    "tags": []
   },
   "outputs": [],
   "source": [
    "X_train, X_test, y_train, y_test = train_test_split(patient_info_df[FEATURES], patient_info_df['is_healthy'], test_size=0.2, random_state=44)"
   ]
  },
  {
   "cell_type": "markdown",
   "metadata": {
    "papermill": {
     "duration": 0.012451,
     "end_time": "2021-03-09T09:12:27.704020",
     "exception": false,
     "start_time": "2021-03-09T09:12:27.691569",
     "status": "completed"
    },
    "tags": []
   },
   "source": [
    "# **TRAINING GRADIENT BOOSTING**"
   ]
  },
  {
   "cell_type": "code",
   "execution_count": 9,
   "metadata": {
    "execution": {
     "iopub.execute_input": "2021-03-09T09:12:27.736588Z",
     "iopub.status.busy": "2021-03-09T09:12:27.735594Z",
     "iopub.status.idle": "2021-03-09T09:12:27.808746Z",
     "shell.execute_reply": "2021-03-09T09:12:27.808087Z"
    },
    "papermill": {
     "duration": 0.092109,
     "end_time": "2021-03-09T09:12:27.808886",
     "exception": false,
     "start_time": "2021-03-09T09:12:27.716777",
     "status": "completed"
    },
    "tags": []
   },
   "outputs": [],
   "source": [
    "clf = GradientBoostingClassifier().fit(X_train, y_train)"
   ]
  },
  {
   "cell_type": "markdown",
   "metadata": {
    "papermill": {
     "duration": 0.01254,
     "end_time": "2021-03-09T09:12:27.834465",
     "exception": false,
     "start_time": "2021-03-09T09:12:27.821925",
     "status": "completed"
    },
    "tags": []
   },
   "source": [
    "# **CONVERTING PROBABILITY TO 0 AND 1 SCORES**"
   ]
  },
  {
   "cell_type": "code",
   "execution_count": 10,
   "metadata": {
    "execution": {
     "iopub.execute_input": "2021-03-09T09:12:27.866970Z",
     "iopub.status.busy": "2021-03-09T09:12:27.866131Z",
     "iopub.status.idle": "2021-03-09T09:12:27.869184Z",
     "shell.execute_reply": "2021-03-09T09:12:27.869664Z"
    },
    "papermill": {
     "duration": 0.022384,
     "end_time": "2021-03-09T09:12:27.869838",
     "exception": false,
     "start_time": "2021-03-09T09:12:27.847454",
     "status": "completed"
    },
    "tags": []
   },
   "outputs": [],
   "source": [
    "y_pred = convert_probability_to_1_0_score(clf.predict_proba(np.array(X_test)), THRESHOLD)"
   ]
  },
  {
   "cell_type": "markdown",
   "metadata": {
    "papermill": {
     "duration": 0.013155,
     "end_time": "2021-03-09T09:12:27.896150",
     "exception": false,
     "start_time": "2021-03-09T09:12:27.882995",
     "status": "completed"
    },
    "tags": []
   },
   "source": [
    "# **BUILDING CONFUSION MATRIX**"
   ]
  },
  {
   "cell_type": "code",
   "execution_count": 11,
   "metadata": {
    "execution": {
     "iopub.execute_input": "2021-03-09T09:12:27.931019Z",
     "iopub.status.busy": "2021-03-09T09:12:27.930406Z",
     "iopub.status.idle": "2021-03-09T09:12:27.934825Z",
     "shell.execute_reply": "2021-03-09T09:12:27.934135Z"
    },
    "papermill": {
     "duration": 0.025767,
     "end_time": "2021-03-09T09:12:27.934966",
     "exception": false,
     "start_time": "2021-03-09T09:12:27.909199",
     "status": "completed"
    },
    "tags": []
   },
   "outputs": [
    {
     "name": "stdout",
     "output_type": "stream",
     "text": [
      "[[19  0]\n",
      " [ 1  6]]\n"
     ]
    }
   ],
   "source": [
    "cf_matrix = confusion_matrix(y_pred, y_test)\n",
    "print(cf_matrix)"
   ]
  },
  {
   "cell_type": "markdown",
   "metadata": {
    "papermill": {
     "duration": 0.013451,
     "end_time": "2021-03-09T09:12:27.962122",
     "exception": false,
     "start_time": "2021-03-09T09:12:27.948671",
     "status": "completed"
    },
    "tags": []
   },
   "source": [
    "# **CALCULATING CLASSIFICATION REPORT**"
   ]
  },
  {
   "cell_type": "code",
   "execution_count": 12,
   "metadata": {
    "execution": {
     "iopub.execute_input": "2021-03-09T09:12:27.998597Z",
     "iopub.status.busy": "2021-03-09T09:12:27.997942Z",
     "iopub.status.idle": "2021-03-09T09:12:28.005962Z",
     "shell.execute_reply": "2021-03-09T09:12:28.005217Z"
    },
    "papermill": {
     "duration": 0.028586,
     "end_time": "2021-03-09T09:12:28.006152",
     "exception": false,
     "start_time": "2021-03-09T09:12:27.977566",
     "status": "completed"
    },
    "tags": []
   },
   "outputs": [
    {
     "name": "stdout",
     "output_type": "stream",
     "text": [
      "              precision    recall  f1-score   support\n",
      "\n",
      "           0     1.0000    0.9500    0.9744        20\n",
      "           1     0.8571    1.0000    0.9231         6\n",
      "\n",
      "    accuracy                         0.9615        26\n",
      "   macro avg     0.9286    0.9750    0.9487        26\n",
      "weighted avg     0.9670    0.9615    0.9625        26\n",
      "\n"
     ]
    }
   ],
   "source": [
    "print(classification_report(y_test, y_pred, digits=4))"
   ]
  },
  {
   "cell_type": "markdown",
   "metadata": {
    "papermill": {
     "duration": 0.013832,
     "end_time": "2021-03-09T09:12:28.034872",
     "exception": false,
     "start_time": "2021-03-09T09:12:28.021040",
     "status": "completed"
    },
    "tags": []
   },
   "source": [
    "# **MODEL SAVING**"
   ]
  },
  {
   "cell_type": "code",
   "execution_count": 13,
   "metadata": {
    "execution": {
     "iopub.execute_input": "2021-03-09T09:12:28.071802Z",
     "iopub.status.busy": "2021-03-09T09:12:28.071044Z",
     "iopub.status.idle": "2021-03-09T09:12:28.074843Z",
     "shell.execute_reply": "2021-03-09T09:12:28.074170Z"
    },
    "papermill": {
     "duration": 0.026087,
     "end_time": "2021-03-09T09:12:28.074992",
     "exception": false,
     "start_time": "2021-03-09T09:12:28.048905",
     "status": "completed"
    },
    "tags": []
   },
   "outputs": [],
   "source": [
    "with open(FILE_NAME_TO_SAVE_MODEL, 'wb') as file:\n",
    "    pickle.dump(clf, file)"
   ]
  },
  {
   "cell_type": "code",
   "execution_count": null,
   "metadata": {
    "papermill": {
     "duration": 0.014618,
     "end_time": "2021-03-09T09:12:28.104484",
     "exception": false,
     "start_time": "2021-03-09T09:12:28.089866",
     "status": "completed"
    },
    "tags": []
   },
   "outputs": [],
   "source": []
  },
  {
   "cell_type": "code",
   "execution_count": null,
   "metadata": {
    "papermill": {
     "duration": 0.013694,
     "end_time": "2021-03-09T09:12:28.132261",
     "exception": false,
     "start_time": "2021-03-09T09:12:28.118567",
     "status": "completed"
    },
    "tags": []
   },
   "outputs": [],
   "source": []
  }
 ],
 "metadata": {
  "kernelspec": {
   "display_name": "Python 3",
   "language": "python",
   "name": "python3"
  },
  "language_info": {
   "codemirror_mode": {
    "name": "ipython",
    "version": 3
   },
   "file_extension": ".py",
   "mimetype": "text/x-python",
   "name": "python",
   "nbconvert_exporter": "python",
   "pygments_lexer": "ipython3",
   "version": "3.7.9"
  },
  "papermill": {
   "default_parameters": {},
   "duration": 8.529211,
   "end_time": "2021-03-09T09:12:28.756367",
   "environment_variables": {},
   "exception": null,
   "input_path": "__notebook__.ipynb",
   "output_path": "__notebook__.ipynb",
   "parameters": {},
   "start_time": "2021-03-09T09:12:20.227156",
   "version": "2.2.2"
  }
 },
 "nbformat": 4,
 "nbformat_minor": 4
}
