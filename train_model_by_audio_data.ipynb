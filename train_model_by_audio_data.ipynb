{
 "cells": [
  {
   "cell_type": "code",
   "execution_count": 1,
   "metadata": {
    "_cell_guid": "b1076dfc-b9ad-4769-8c92-a6c4dae69d19",
    "_uuid": "8f2839f25d086af736a60e9eeb907d3b93b6e0e5",
    "execution": {
     "iopub.execute_input": "2021-03-09T05:34:20.898680Z",
     "iopub.status.busy": "2021-03-09T05:34:20.897783Z",
     "iopub.status.idle": "2021-03-09T05:34:23.494720Z",
     "shell.execute_reply": "2021-03-09T05:34:23.494020Z"
    },
    "papermill": {
     "duration": 2.619897,
     "end_time": "2021-03-09T05:34:23.494937",
     "exception": false,
     "start_time": "2021-03-09T05:34:20.875040",
     "status": "completed"
    },
    "tags": []
   },
   "outputs": [],
   "source": [
    "import numpy as np \n",
    "import pandas as pd \n",
    "import pickle\n",
    "\n",
    "from sklearn.preprocessing import LabelEncoder \n",
    "from sklearn.multioutput import MultiOutputClassifier\n",
    "from sklearn.experimental import enable_hist_gradient_boosting\n",
    "from sklearn.ensemble import HistGradientBoostingClassifier\n",
    "from sklearn.metrics import multilabel_confusion_matrix, classification_report\n",
    "from sklearn.model_selection import train_test_split\n",
    "import soundfile as sf\n",
    "import librosa \n",
    "\n"
   ]
  },
  {
   "cell_type": "markdown",
   "metadata": {
    "papermill": {
     "duration": 0.014899,
     "end_time": "2021-03-09T05:34:23.527898",
     "exception": false,
     "start_time": "2021-03-09T05:34:23.512999",
     "status": "completed"
    },
    "tags": []
   },
   "source": [
    "# **SOME DEFAULT FUNCTIONS**\n"
   ]
  },
  {
   "cell_type": "code",
   "execution_count": 2,
   "metadata": {
    "execution": {
     "iopub.execute_input": "2021-03-09T05:34:23.562319Z",
     "iopub.status.busy": "2021-03-09T05:34:23.561332Z",
     "iopub.status.idle": "2021-03-09T05:34:23.568164Z",
     "shell.execute_reply": "2021-03-09T05:34:23.568814Z"
    },
    "papermill": {
     "duration": 0.026033,
     "end_time": "2021-03-09T05:34:23.568992",
     "exception": false,
     "start_time": "2021-03-09T05:34:23.542959",
     "status": "completed"
    },
    "tags": []
   },
   "outputs": [],
   "source": [
    "def convert_probability_to_1_0_score(y_pred_proba, threshold):\n",
    "    b, m, n = np.array(y_pred_proba).shape\n",
    "    y_pred = np.zeros((m, n))\n",
    "    for i in range(m):\n",
    "        for j in range(n):\n",
    "            if y_pred_proba[j][i][1] >= threshold:\n",
    "                y_pred[i][j] = 1\n",
    "    return y_pred"
   ]
  },
  {
   "cell_type": "code",
   "execution_count": 3,
   "metadata": {
    "execution": {
     "iopub.execute_input": "2021-03-09T05:34:23.610919Z",
     "iopub.status.busy": "2021-03-09T05:34:23.609536Z",
     "iopub.status.idle": "2021-03-09T05:34:23.613472Z",
     "shell.execute_reply": "2021-03-09T05:34:23.614398Z"
    },
    "papermill": {
     "duration": 0.029739,
     "end_time": "2021-03-09T05:34:23.614649",
     "exception": false,
     "start_time": "2021-03-09T05:34:23.584910",
     "status": "completed"
    },
    "tags": []
   },
   "outputs": [],
   "source": [
    "def convert_categorical_data_to_numerical(df, categorical_columns):\n",
    "    for column in categorical_columns:\n",
    "        number = LabelEncoder()\n",
    "        df[column] = number.fit_transform(df[column].astype('str')).astype(float)\n",
    "        le_name_mapping = dict(zip(number.classes_, number.transform(number.classes_)))\n",
    "        print(column)\n",
    "        print(le_name_mapping)"
   ]
  },
  {
   "cell_type": "code",
   "execution_count": 4,
   "metadata": {
    "execution": {
     "iopub.execute_input": "2021-03-09T05:34:23.649212Z",
     "iopub.status.busy": "2021-03-09T05:34:23.648561Z",
     "iopub.status.idle": "2021-03-09T05:34:23.655884Z",
     "shell.execute_reply": "2021-03-09T05:34:23.655220Z"
    },
    "papermill": {
     "duration": 0.02547,
     "end_time": "2021-03-09T05:34:23.656040",
     "exception": false,
     "start_time": "2021-03-09T05:34:23.630570",
     "status": "completed"
    },
    "tags": []
   },
   "outputs": [],
   "source": [
    "def convert_audio_to_array(data, sample_rate):\n",
    "    stft = np.abs(librosa.stft(data)) \n",
    "    mfccs = np.mean(librosa.feature.mfcc(y=data, sr=sample_rate, n_mfcc=128),axis=1) \n",
    "    melspectrogram = np.mean(librosa.feature.melspectrogram(S=stft, sr=sample_rate),axis=1)\n",
    "    return np.concatenate((mfccs,melspectrogram))"
   ]
  },
  {
   "cell_type": "markdown",
   "metadata": {
    "papermill": {
     "duration": 0.015584,
     "end_time": "2021-03-09T05:34:23.687116",
     "exception": false,
     "start_time": "2021-03-09T05:34:23.671532",
     "status": "completed"
    },
    "tags": []
   },
   "source": [
    "# **GLOBAL VARIABLES**"
   ]
  },
  {
   "cell_type": "code",
   "execution_count": 5,
   "metadata": {
    "execution": {
     "iopub.execute_input": "2021-03-09T05:34:23.725041Z",
     "iopub.status.busy": "2021-03-09T05:34:23.724080Z",
     "iopub.status.idle": "2021-03-09T05:34:23.726963Z",
     "shell.execute_reply": "2021-03-09T05:34:23.726475Z"
    },
    "papermill": {
     "duration": 0.024258,
     "end_time": "2021-03-09T05:34:23.727099",
     "exception": false,
     "start_time": "2021-03-09T05:34:23.702841",
     "status": "completed"
    },
    "tags": []
   },
   "outputs": [],
   "source": [
    "PATH_TO_AUDIO_FILES = '/kaggle/input/notebookd311de3272/processed_audio_files/'\n",
    "ADDITIONAL_COLUMNS = ['adult_bmi', 'sex', 'age']\n",
    "CATEGORICAL_COLUMNS = ['mode', 'location', 'sex']\n",
    "ADDITIONAL_FEATURES = ['adult_bmi', 'mode', 'location', 'sex', 'age']\n",
    "PATH_TO_AUDIO_TRAIN_DF = '/kaggle/input/notebookd311de3272/files_info.csv'\n",
    "PATH_TO_PATIENT_INFO_DF = '/kaggle/input/notebookd311de3272/train_data.csv'\n",
    "TEST_SIZE = 0.15\n",
    "MAX_ITERATIONS = 200\n",
    "THRESHOLD = 0.15\n",
    "FILE_NAME_TO_SAVE_MODEL = \"crackles_wheezels_model.pkl\""
   ]
  },
  {
   "cell_type": "markdown",
   "metadata": {
    "papermill": {
     "duration": 0.017115,
     "end_time": "2021-03-09T05:34:23.760031",
     "exception": false,
     "start_time": "2021-03-09T05:34:23.742916",
     "status": "completed"
    },
    "tags": []
   },
   "source": [
    "# **READING DATASETS**"
   ]
  },
  {
   "cell_type": "code",
   "execution_count": 6,
   "metadata": {
    "execution": {
     "iopub.execute_input": "2021-03-09T05:34:23.796941Z",
     "iopub.status.busy": "2021-03-09T05:34:23.796264Z",
     "iopub.status.idle": "2021-03-09T05:34:23.879741Z",
     "shell.execute_reply": "2021-03-09T05:34:23.879216Z"
    },
    "papermill": {
     "duration": 0.104128,
     "end_time": "2021-03-09T05:34:23.879878",
     "exception": false,
     "start_time": "2021-03-09T05:34:23.775750",
     "status": "completed"
    },
    "tags": []
   },
   "outputs": [
    {
     "data": {
      "text/html": [
       "<div>\n",
       "<style scoped>\n",
       "    .dataframe tbody tr th:only-of-type {\n",
       "        vertical-align: middle;\n",
       "    }\n",
       "\n",
       "    .dataframe tbody tr th {\n",
       "        vertical-align: top;\n",
       "    }\n",
       "\n",
       "    .dataframe thead th {\n",
       "        text-align: right;\n",
       "    }\n",
       "</style>\n",
       "<table border=\"1\" class=\"dataframe\">\n",
       "  <thead>\n",
       "    <tr style=\"text-align: right;\">\n",
       "      <th></th>\n",
       "      <th>Unnamed: 0</th>\n",
       "      <th>start</th>\n",
       "      <th>end</th>\n",
       "      <th>crackles</th>\n",
       "      <th>weezels</th>\n",
       "      <th>pid</th>\n",
       "      <th>mode</th>\n",
       "      <th>location</th>\n",
       "      <th>equipment</th>\n",
       "      <th>filename</th>\n",
       "      <th>filename_new</th>\n",
       "    </tr>\n",
       "  </thead>\n",
       "  <tbody>\n",
       "    <tr>\n",
       "      <th>0</th>\n",
       "      <td>0</td>\n",
       "      <td>0.036</td>\n",
       "      <td>2.436</td>\n",
       "      <td>0</td>\n",
       "      <td>0</td>\n",
       "      <td>168</td>\n",
       "      <td>sc</td>\n",
       "      <td>Al</td>\n",
       "      <td>Meditron</td>\n",
       "      <td>168_1b1_Al_sc_Meditron</td>\n",
       "      <td>168_1b1_Al_sc_Meditron_0.wav</td>\n",
       "    </tr>\n",
       "    <tr>\n",
       "      <th>1</th>\n",
       "      <td>1</td>\n",
       "      <td>2.436</td>\n",
       "      <td>5.250</td>\n",
       "      <td>0</td>\n",
       "      <td>0</td>\n",
       "      <td>168</td>\n",
       "      <td>sc</td>\n",
       "      <td>Al</td>\n",
       "      <td>Meditron</td>\n",
       "      <td>168_1b1_Al_sc_Meditron</td>\n",
       "      <td>168_1b1_Al_sc_Meditron_1.wav</td>\n",
       "    </tr>\n",
       "    <tr>\n",
       "      <th>2</th>\n",
       "      <td>2</td>\n",
       "      <td>5.250</td>\n",
       "      <td>8.422</td>\n",
       "      <td>0</td>\n",
       "      <td>0</td>\n",
       "      <td>168</td>\n",
       "      <td>sc</td>\n",
       "      <td>Al</td>\n",
       "      <td>Meditron</td>\n",
       "      <td>168_1b1_Al_sc_Meditron</td>\n",
       "      <td>168_1b1_Al_sc_Meditron_2.wav</td>\n",
       "    </tr>\n",
       "    <tr>\n",
       "      <th>3</th>\n",
       "      <td>3</td>\n",
       "      <td>8.422</td>\n",
       "      <td>11.222</td>\n",
       "      <td>0</td>\n",
       "      <td>0</td>\n",
       "      <td>168</td>\n",
       "      <td>sc</td>\n",
       "      <td>Al</td>\n",
       "      <td>Meditron</td>\n",
       "      <td>168_1b1_Al_sc_Meditron</td>\n",
       "      <td>168_1b1_Al_sc_Meditron_3.wav</td>\n",
       "    </tr>\n",
       "    <tr>\n",
       "      <th>4</th>\n",
       "      <td>4</td>\n",
       "      <td>11.222</td>\n",
       "      <td>13.807</td>\n",
       "      <td>0</td>\n",
       "      <td>0</td>\n",
       "      <td>168</td>\n",
       "      <td>sc</td>\n",
       "      <td>Al</td>\n",
       "      <td>Meditron</td>\n",
       "      <td>168_1b1_Al_sc_Meditron</td>\n",
       "      <td>168_1b1_Al_sc_Meditron_4.wav</td>\n",
       "    </tr>\n",
       "    <tr>\n",
       "      <th>...</th>\n",
       "      <td>...</td>\n",
       "      <td>...</td>\n",
       "      <td>...</td>\n",
       "      <td>...</td>\n",
       "      <td>...</td>\n",
       "      <td>...</td>\n",
       "      <td>...</td>\n",
       "      <td>...</td>\n",
       "      <td>...</td>\n",
       "      <td>...</td>\n",
       "      <td>...</td>\n",
       "    </tr>\n",
       "    <tr>\n",
       "      <th>6893</th>\n",
       "      <td>6893</td>\n",
       "      <td>11.928</td>\n",
       "      <td>17.049</td>\n",
       "      <td>0</td>\n",
       "      <td>0</td>\n",
       "      <td>162</td>\n",
       "      <td>mc</td>\n",
       "      <td>Pr</td>\n",
       "      <td>AKGC417L</td>\n",
       "      <td>162_2b4_Pr_mc_AKGC417L</td>\n",
       "      <td>162_2b4_Pr_mc_AKGC417L_2.wav</td>\n",
       "    </tr>\n",
       "    <tr>\n",
       "      <th>6894</th>\n",
       "      <td>6894</td>\n",
       "      <td>17.049</td>\n",
       "      <td>18.729</td>\n",
       "      <td>0</td>\n",
       "      <td>0</td>\n",
       "      <td>162</td>\n",
       "      <td>mc</td>\n",
       "      <td>Pr</td>\n",
       "      <td>AKGC417L</td>\n",
       "      <td>162_2b4_Pr_mc_AKGC417L</td>\n",
       "      <td>162_2b4_Pr_mc_AKGC417L_3.wav</td>\n",
       "    </tr>\n",
       "    <tr>\n",
       "      <th>6895</th>\n",
       "      <td>6895</td>\n",
       "      <td>2.145</td>\n",
       "      <td>7.788</td>\n",
       "      <td>0</td>\n",
       "      <td>0</td>\n",
       "      <td>200</td>\n",
       "      <td>mc</td>\n",
       "      <td>Ar</td>\n",
       "      <td>AKGC417L</td>\n",
       "      <td>200_2p3_Ar_mc_AKGC417L</td>\n",
       "      <td>200_2p3_Ar_mc_AKGC417L_0.wav</td>\n",
       "    </tr>\n",
       "    <tr>\n",
       "      <th>6896</th>\n",
       "      <td>6896</td>\n",
       "      <td>7.788</td>\n",
       "      <td>13.881</td>\n",
       "      <td>0</td>\n",
       "      <td>0</td>\n",
       "      <td>200</td>\n",
       "      <td>mc</td>\n",
       "      <td>Ar</td>\n",
       "      <td>AKGC417L</td>\n",
       "      <td>200_2p3_Ar_mc_AKGC417L</td>\n",
       "      <td>200_2p3_Ar_mc_AKGC417L_1.wav</td>\n",
       "    </tr>\n",
       "    <tr>\n",
       "      <th>6897</th>\n",
       "      <td>6897</td>\n",
       "      <td>13.881</td>\n",
       "      <td>19.891</td>\n",
       "      <td>0</td>\n",
       "      <td>0</td>\n",
       "      <td>200</td>\n",
       "      <td>mc</td>\n",
       "      <td>Ar</td>\n",
       "      <td>AKGC417L</td>\n",
       "      <td>200_2p3_Ar_mc_AKGC417L</td>\n",
       "      <td>200_2p3_Ar_mc_AKGC417L_2.wav</td>\n",
       "    </tr>\n",
       "  </tbody>\n",
       "</table>\n",
       "<p>6898 rows × 11 columns</p>\n",
       "</div>"
      ],
      "text/plain": [
       "      Unnamed: 0   start     end  crackles  weezels  pid mode location  \\\n",
       "0              0   0.036   2.436         0        0  168   sc       Al   \n",
       "1              1   2.436   5.250         0        0  168   sc       Al   \n",
       "2              2   5.250   8.422         0        0  168   sc       Al   \n",
       "3              3   8.422  11.222         0        0  168   sc       Al   \n",
       "4              4  11.222  13.807         0        0  168   sc       Al   \n",
       "...          ...     ...     ...       ...      ...  ...  ...      ...   \n",
       "6893        6893  11.928  17.049         0        0  162   mc       Pr   \n",
       "6894        6894  17.049  18.729         0        0  162   mc       Pr   \n",
       "6895        6895   2.145   7.788         0        0  200   mc       Ar   \n",
       "6896        6896   7.788  13.881         0        0  200   mc       Ar   \n",
       "6897        6897  13.881  19.891         0        0  200   mc       Ar   \n",
       "\n",
       "     equipment                filename                  filename_new  \n",
       "0     Meditron  168_1b1_Al_sc_Meditron  168_1b1_Al_sc_Meditron_0.wav  \n",
       "1     Meditron  168_1b1_Al_sc_Meditron  168_1b1_Al_sc_Meditron_1.wav  \n",
       "2     Meditron  168_1b1_Al_sc_Meditron  168_1b1_Al_sc_Meditron_2.wav  \n",
       "3     Meditron  168_1b1_Al_sc_Meditron  168_1b1_Al_sc_Meditron_3.wav  \n",
       "4     Meditron  168_1b1_Al_sc_Meditron  168_1b1_Al_sc_Meditron_4.wav  \n",
       "...        ...                     ...                           ...  \n",
       "6893  AKGC417L  162_2b4_Pr_mc_AKGC417L  162_2b4_Pr_mc_AKGC417L_2.wav  \n",
       "6894  AKGC417L  162_2b4_Pr_mc_AKGC417L  162_2b4_Pr_mc_AKGC417L_3.wav  \n",
       "6895  AKGC417L  200_2p3_Ar_mc_AKGC417L  200_2p3_Ar_mc_AKGC417L_0.wav  \n",
       "6896  AKGC417L  200_2p3_Ar_mc_AKGC417L  200_2p3_Ar_mc_AKGC417L_1.wav  \n",
       "6897  AKGC417L  200_2p3_Ar_mc_AKGC417L  200_2p3_Ar_mc_AKGC417L_2.wav  \n",
       "\n",
       "[6898 rows x 11 columns]"
      ]
     },
     "execution_count": 6,
     "metadata": {},
     "output_type": "execute_result"
    }
   ],
   "source": [
    "audio_train_df = pd.read_csv(PATH_TO_AUDIO_TRAIN_DF)\n",
    "audio_train_df"
   ]
  },
  {
   "cell_type": "code",
   "execution_count": 7,
   "metadata": {
    "execution": {
     "iopub.execute_input": "2021-03-09T05:34:23.918176Z",
     "iopub.status.busy": "2021-03-09T05:34:23.917493Z",
     "iopub.status.idle": "2021-03-09T05:34:23.986661Z",
     "shell.execute_reply": "2021-03-09T05:34:23.985923Z"
    },
    "papermill": {
     "duration": 0.090139,
     "end_time": "2021-03-09T05:34:23.986814",
     "exception": false,
     "start_time": "2021-03-09T05:34:23.896675",
     "status": "completed"
    },
    "tags": []
   },
   "outputs": [
    {
     "data": {
      "text/html": [
       "<div>\n",
       "<style scoped>\n",
       "    .dataframe tbody tr th:only-of-type {\n",
       "        vertical-align: middle;\n",
       "    }\n",
       "\n",
       "    .dataframe tbody tr th {\n",
       "        vertical-align: top;\n",
       "    }\n",
       "\n",
       "    .dataframe thead th {\n",
       "        text-align: right;\n",
       "    }\n",
       "</style>\n",
       "<table border=\"1\" class=\"dataframe\">\n",
       "  <thead>\n",
       "    <tr style=\"text-align: right;\">\n",
       "      <th></th>\n",
       "      <th>Unnamed: 0</th>\n",
       "      <th>pid</th>\n",
       "      <th>is_Al</th>\n",
       "      <th>Al_crackles</th>\n",
       "      <th>Al_wheezes</th>\n",
       "      <th>is_Ar</th>\n",
       "      <th>Ar_crackles</th>\n",
       "      <th>Ar_wheezes</th>\n",
       "      <th>is_Pl</th>\n",
       "      <th>Pl_crackles</th>\n",
       "      <th>...</th>\n",
       "      <th>Lr_wheezes</th>\n",
       "      <th>is_Tc</th>\n",
       "      <th>Tc_crackles</th>\n",
       "      <th>Tc_wheezes</th>\n",
       "      <th>age</th>\n",
       "      <th>sex</th>\n",
       "      <th>adult_bmi</th>\n",
       "      <th>child_weight</th>\n",
       "      <th>child_height</th>\n",
       "      <th>disease</th>\n",
       "    </tr>\n",
       "  </thead>\n",
       "  <tbody>\n",
       "    <tr>\n",
       "      <th>0</th>\n",
       "      <td>0</td>\n",
       "      <td>101</td>\n",
       "      <td>True</td>\n",
       "      <td>0.0</td>\n",
       "      <td>0.0</td>\n",
       "      <td>False</td>\n",
       "      <td>0.0</td>\n",
       "      <td>0.000000</td>\n",
       "      <td>False</td>\n",
       "      <td>0.000000</td>\n",
       "      <td>...</td>\n",
       "      <td>0.0</td>\n",
       "      <td>False</td>\n",
       "      <td>0.0</td>\n",
       "      <td>0.0</td>\n",
       "      <td>3.00</td>\n",
       "      <td>F</td>\n",
       "      <td>0.00</td>\n",
       "      <td>19.0</td>\n",
       "      <td>99.0</td>\n",
       "      <td>URTI</td>\n",
       "    </tr>\n",
       "    <tr>\n",
       "      <th>1</th>\n",
       "      <td>1</td>\n",
       "      <td>102</td>\n",
       "      <td>False</td>\n",
       "      <td>0.0</td>\n",
       "      <td>0.0</td>\n",
       "      <td>True</td>\n",
       "      <td>0.0</td>\n",
       "      <td>0.000000</td>\n",
       "      <td>False</td>\n",
       "      <td>0.000000</td>\n",
       "      <td>...</td>\n",
       "      <td>0.0</td>\n",
       "      <td>False</td>\n",
       "      <td>0.0</td>\n",
       "      <td>0.0</td>\n",
       "      <td>0.75</td>\n",
       "      <td>F</td>\n",
       "      <td>0.00</td>\n",
       "      <td>9.8</td>\n",
       "      <td>73.0</td>\n",
       "      <td>Healthy</td>\n",
       "    </tr>\n",
       "    <tr>\n",
       "      <th>2</th>\n",
       "      <td>2</td>\n",
       "      <td>103</td>\n",
       "      <td>False</td>\n",
       "      <td>0.0</td>\n",
       "      <td>0.0</td>\n",
       "      <td>True</td>\n",
       "      <td>0.0</td>\n",
       "      <td>0.666667</td>\n",
       "      <td>False</td>\n",
       "      <td>0.000000</td>\n",
       "      <td>...</td>\n",
       "      <td>0.0</td>\n",
       "      <td>False</td>\n",
       "      <td>0.0</td>\n",
       "      <td>0.0</td>\n",
       "      <td>70.00</td>\n",
       "      <td>F</td>\n",
       "      <td>33.00</td>\n",
       "      <td>0.0</td>\n",
       "      <td>0.0</td>\n",
       "      <td>Asthma</td>\n",
       "    </tr>\n",
       "    <tr>\n",
       "      <th>3</th>\n",
       "      <td>3</td>\n",
       "      <td>104</td>\n",
       "      <td>True</td>\n",
       "      <td>0.0</td>\n",
       "      <td>0.0</td>\n",
       "      <td>True</td>\n",
       "      <td>0.0</td>\n",
       "      <td>0.714286</td>\n",
       "      <td>True</td>\n",
       "      <td>0.000000</td>\n",
       "      <td>...</td>\n",
       "      <td>0.0</td>\n",
       "      <td>False</td>\n",
       "      <td>0.0</td>\n",
       "      <td>0.0</td>\n",
       "      <td>70.00</td>\n",
       "      <td>F</td>\n",
       "      <td>28.47</td>\n",
       "      <td>0.0</td>\n",
       "      <td>0.0</td>\n",
       "      <td>COPD</td>\n",
       "    </tr>\n",
       "    <tr>\n",
       "      <th>4</th>\n",
       "      <td>4</td>\n",
       "      <td>105</td>\n",
       "      <td>False</td>\n",
       "      <td>0.0</td>\n",
       "      <td>0.0</td>\n",
       "      <td>False</td>\n",
       "      <td>0.0</td>\n",
       "      <td>0.000000</td>\n",
       "      <td>False</td>\n",
       "      <td>0.000000</td>\n",
       "      <td>...</td>\n",
       "      <td>0.0</td>\n",
       "      <td>True</td>\n",
       "      <td>0.0</td>\n",
       "      <td>0.0</td>\n",
       "      <td>7.00</td>\n",
       "      <td>F</td>\n",
       "      <td>0.00</td>\n",
       "      <td>32.0</td>\n",
       "      <td>135.0</td>\n",
       "      <td>URTI</td>\n",
       "    </tr>\n",
       "    <tr>\n",
       "      <th>...</th>\n",
       "      <td>...</td>\n",
       "      <td>...</td>\n",
       "      <td>...</td>\n",
       "      <td>...</td>\n",
       "      <td>...</td>\n",
       "      <td>...</td>\n",
       "      <td>...</td>\n",
       "      <td>...</td>\n",
       "      <td>...</td>\n",
       "      <td>...</td>\n",
       "      <td>...</td>\n",
       "      <td>...</td>\n",
       "      <td>...</td>\n",
       "      <td>...</td>\n",
       "      <td>...</td>\n",
       "      <td>...</td>\n",
       "      <td>...</td>\n",
       "      <td>...</td>\n",
       "      <td>...</td>\n",
       "      <td>...</td>\n",
       "      <td>...</td>\n",
       "    </tr>\n",
       "    <tr>\n",
       "      <th>121</th>\n",
       "      <td>121</td>\n",
       "      <td>222</td>\n",
       "      <td>False</td>\n",
       "      <td>0.0</td>\n",
       "      <td>0.0</td>\n",
       "      <td>True</td>\n",
       "      <td>0.0</td>\n",
       "      <td>0.000000</td>\n",
       "      <td>False</td>\n",
       "      <td>0.000000</td>\n",
       "      <td>...</td>\n",
       "      <td>0.0</td>\n",
       "      <td>False</td>\n",
       "      <td>0.0</td>\n",
       "      <td>0.0</td>\n",
       "      <td>60.00</td>\n",
       "      <td>M</td>\n",
       "      <td>0.00</td>\n",
       "      <td>0.0</td>\n",
       "      <td>0.0</td>\n",
       "      <td>COPD</td>\n",
       "    </tr>\n",
       "    <tr>\n",
       "      <th>122</th>\n",
       "      <td>122</td>\n",
       "      <td>223</td>\n",
       "      <td>True</td>\n",
       "      <td>0.0</td>\n",
       "      <td>0.0</td>\n",
       "      <td>True</td>\n",
       "      <td>0.0</td>\n",
       "      <td>1.000000</td>\n",
       "      <td>True</td>\n",
       "      <td>0.000000</td>\n",
       "      <td>...</td>\n",
       "      <td>0.0</td>\n",
       "      <td>False</td>\n",
       "      <td>0.0</td>\n",
       "      <td>0.0</td>\n",
       "      <td>0.00</td>\n",
       "      <td>0</td>\n",
       "      <td>0.00</td>\n",
       "      <td>0.0</td>\n",
       "      <td>0.0</td>\n",
       "      <td>COPD</td>\n",
       "    </tr>\n",
       "    <tr>\n",
       "      <th>123</th>\n",
       "      <td>123</td>\n",
       "      <td>224</td>\n",
       "      <td>True</td>\n",
       "      <td>0.0</td>\n",
       "      <td>0.0</td>\n",
       "      <td>False</td>\n",
       "      <td>0.0</td>\n",
       "      <td>0.000000</td>\n",
       "      <td>False</td>\n",
       "      <td>0.000000</td>\n",
       "      <td>...</td>\n",
       "      <td>0.0</td>\n",
       "      <td>True</td>\n",
       "      <td>0.0</td>\n",
       "      <td>0.0</td>\n",
       "      <td>10.00</td>\n",
       "      <td>F</td>\n",
       "      <td>0.00</td>\n",
       "      <td>32.3</td>\n",
       "      <td>143.0</td>\n",
       "      <td>Healthy</td>\n",
       "    </tr>\n",
       "    <tr>\n",
       "      <th>124</th>\n",
       "      <td>124</td>\n",
       "      <td>225</td>\n",
       "      <td>False</td>\n",
       "      <td>0.0</td>\n",
       "      <td>0.0</td>\n",
       "      <td>False</td>\n",
       "      <td>0.0</td>\n",
       "      <td>0.000000</td>\n",
       "      <td>True</td>\n",
       "      <td>0.000000</td>\n",
       "      <td>...</td>\n",
       "      <td>0.0</td>\n",
       "      <td>False</td>\n",
       "      <td>0.0</td>\n",
       "      <td>0.0</td>\n",
       "      <td>0.83</td>\n",
       "      <td>M</td>\n",
       "      <td>0.00</td>\n",
       "      <td>7.8</td>\n",
       "      <td>74.0</td>\n",
       "      <td>Healthy</td>\n",
       "    </tr>\n",
       "    <tr>\n",
       "      <th>125</th>\n",
       "      <td>125</td>\n",
       "      <td>226</td>\n",
       "      <td>True</td>\n",
       "      <td>0.2</td>\n",
       "      <td>0.0</td>\n",
       "      <td>False</td>\n",
       "      <td>0.0</td>\n",
       "      <td>0.000000</td>\n",
       "      <td>True</td>\n",
       "      <td>0.454545</td>\n",
       "      <td>...</td>\n",
       "      <td>0.0</td>\n",
       "      <td>False</td>\n",
       "      <td>0.0</td>\n",
       "      <td>0.0</td>\n",
       "      <td>4.00</td>\n",
       "      <td>M</td>\n",
       "      <td>0.00</td>\n",
       "      <td>16.7</td>\n",
       "      <td>103.0</td>\n",
       "      <td>Pneumonia</td>\n",
       "    </tr>\n",
       "  </tbody>\n",
       "</table>\n",
       "<p>126 rows × 29 columns</p>\n",
       "</div>"
      ],
      "text/plain": [
       "     Unnamed: 0  pid  is_Al  Al_crackles  Al_wheezes  is_Ar  Ar_crackles  \\\n",
       "0             0  101   True          0.0         0.0  False          0.0   \n",
       "1             1  102  False          0.0         0.0   True          0.0   \n",
       "2             2  103  False          0.0         0.0   True          0.0   \n",
       "3             3  104   True          0.0         0.0   True          0.0   \n",
       "4             4  105  False          0.0         0.0  False          0.0   \n",
       "..          ...  ...    ...          ...         ...    ...          ...   \n",
       "121         121  222  False          0.0         0.0   True          0.0   \n",
       "122         122  223   True          0.0         0.0   True          0.0   \n",
       "123         123  224   True          0.0         0.0  False          0.0   \n",
       "124         124  225  False          0.0         0.0  False          0.0   \n",
       "125         125  226   True          0.2         0.0  False          0.0   \n",
       "\n",
       "     Ar_wheezes  is_Pl  Pl_crackles  ...  Lr_wheezes  is_Tc  Tc_crackles  \\\n",
       "0      0.000000  False     0.000000  ...         0.0  False          0.0   \n",
       "1      0.000000  False     0.000000  ...         0.0  False          0.0   \n",
       "2      0.666667  False     0.000000  ...         0.0  False          0.0   \n",
       "3      0.714286   True     0.000000  ...         0.0  False          0.0   \n",
       "4      0.000000  False     0.000000  ...         0.0   True          0.0   \n",
       "..          ...    ...          ...  ...         ...    ...          ...   \n",
       "121    0.000000  False     0.000000  ...         0.0  False          0.0   \n",
       "122    1.000000   True     0.000000  ...         0.0  False          0.0   \n",
       "123    0.000000  False     0.000000  ...         0.0   True          0.0   \n",
       "124    0.000000   True     0.000000  ...         0.0  False          0.0   \n",
       "125    0.000000   True     0.454545  ...         0.0  False          0.0   \n",
       "\n",
       "     Tc_wheezes    age  sex  adult_bmi  child_weight  child_height    disease  \n",
       "0           0.0   3.00    F       0.00          19.0          99.0       URTI  \n",
       "1           0.0   0.75    F       0.00           9.8          73.0    Healthy  \n",
       "2           0.0  70.00    F      33.00           0.0           0.0     Asthma  \n",
       "3           0.0  70.00    F      28.47           0.0           0.0       COPD  \n",
       "4           0.0   7.00    F       0.00          32.0         135.0       URTI  \n",
       "..          ...    ...  ...        ...           ...           ...        ...  \n",
       "121         0.0  60.00    M       0.00           0.0           0.0       COPD  \n",
       "122         0.0   0.00    0       0.00           0.0           0.0       COPD  \n",
       "123         0.0  10.00    F       0.00          32.3         143.0    Healthy  \n",
       "124         0.0   0.83    M       0.00           7.8          74.0    Healthy  \n",
       "125         0.0   4.00    M       0.00          16.7         103.0  Pneumonia  \n",
       "\n",
       "[126 rows x 29 columns]"
      ]
     },
     "execution_count": 7,
     "metadata": {},
     "output_type": "execute_result"
    }
   ],
   "source": [
    "patient_info_df = pd.read_csv(PATH_TO_PATIENT_INFO_DF)\n",
    "patient_info_df"
   ]
  },
  {
   "cell_type": "markdown",
   "metadata": {
    "papermill": {
     "duration": 0.016955,
     "end_time": "2021-03-09T05:34:24.022752",
     "exception": false,
     "start_time": "2021-03-09T05:34:24.005797",
     "status": "completed"
    },
    "tags": []
   },
   "source": [
    "# **JOINING TWO DATAFRAMES ON PATIENT ID AND CONVERTING CATEGORICAL VALUES**"
   ]
  },
  {
   "cell_type": "code",
   "execution_count": 8,
   "metadata": {
    "execution": {
     "iopub.execute_input": "2021-03-09T05:34:24.069476Z",
     "iopub.status.busy": "2021-03-09T05:34:24.068318Z",
     "iopub.status.idle": "2021-03-09T05:34:24.118871Z",
     "shell.execute_reply": "2021-03-09T05:34:24.118265Z"
    },
    "papermill": {
     "duration": 0.078895,
     "end_time": "2021-03-09T05:34:24.119029",
     "exception": false,
     "start_time": "2021-03-09T05:34:24.040134",
     "status": "completed"
    },
    "tags": []
   },
   "outputs": [
    {
     "name": "stdout",
     "output_type": "stream",
     "text": [
      "mode\n",
      "{'mc': 0, 'sc': 1}\n",
      "location\n",
      "{'Al': 0, 'Ar': 1, 'Ll': 2, 'Lr': 3, 'Pl': 4, 'Pr': 5, 'Tc': 6}\n",
      "sex\n",
      "{'0': 0, 'F': 1, 'M': 2}\n"
     ]
    },
    {
     "data": {
      "text/html": [
       "<div>\n",
       "<style scoped>\n",
       "    .dataframe tbody tr th:only-of-type {\n",
       "        vertical-align: middle;\n",
       "    }\n",
       "\n",
       "    .dataframe tbody tr th {\n",
       "        vertical-align: top;\n",
       "    }\n",
       "\n",
       "    .dataframe thead th {\n",
       "        text-align: right;\n",
       "    }\n",
       "</style>\n",
       "<table border=\"1\" class=\"dataframe\">\n",
       "  <thead>\n",
       "    <tr style=\"text-align: right;\">\n",
       "      <th></th>\n",
       "      <th>Unnamed: 0</th>\n",
       "      <th>start</th>\n",
       "      <th>end</th>\n",
       "      <th>crackles</th>\n",
       "      <th>weezels</th>\n",
       "      <th>pid</th>\n",
       "      <th>mode</th>\n",
       "      <th>location</th>\n",
       "      <th>equipment</th>\n",
       "      <th>filename</th>\n",
       "      <th>filename_new</th>\n",
       "      <th>adult_bmi</th>\n",
       "      <th>sex</th>\n",
       "      <th>age</th>\n",
       "    </tr>\n",
       "  </thead>\n",
       "  <tbody>\n",
       "    <tr>\n",
       "      <th>0</th>\n",
       "      <td>0</td>\n",
       "      <td>0.036</td>\n",
       "      <td>2.436</td>\n",
       "      <td>0</td>\n",
       "      <td>0</td>\n",
       "      <td>168</td>\n",
       "      <td>1.0</td>\n",
       "      <td>0.0</td>\n",
       "      <td>Meditron</td>\n",
       "      <td>168_1b1_Al_sc_Meditron</td>\n",
       "      <td>168_1b1_Al_sc_Meditron_0.wav</td>\n",
       "      <td>17.35</td>\n",
       "      <td>1.0</td>\n",
       "      <td>19.0</td>\n",
       "    </tr>\n",
       "    <tr>\n",
       "      <th>1</th>\n",
       "      <td>1</td>\n",
       "      <td>2.436</td>\n",
       "      <td>5.250</td>\n",
       "      <td>0</td>\n",
       "      <td>0</td>\n",
       "      <td>168</td>\n",
       "      <td>1.0</td>\n",
       "      <td>0.0</td>\n",
       "      <td>Meditron</td>\n",
       "      <td>168_1b1_Al_sc_Meditron</td>\n",
       "      <td>168_1b1_Al_sc_Meditron_1.wav</td>\n",
       "      <td>17.35</td>\n",
       "      <td>1.0</td>\n",
       "      <td>19.0</td>\n",
       "    </tr>\n",
       "    <tr>\n",
       "      <th>2</th>\n",
       "      <td>2</td>\n",
       "      <td>5.250</td>\n",
       "      <td>8.422</td>\n",
       "      <td>0</td>\n",
       "      <td>0</td>\n",
       "      <td>168</td>\n",
       "      <td>1.0</td>\n",
       "      <td>0.0</td>\n",
       "      <td>Meditron</td>\n",
       "      <td>168_1b1_Al_sc_Meditron</td>\n",
       "      <td>168_1b1_Al_sc_Meditron_2.wav</td>\n",
       "      <td>17.35</td>\n",
       "      <td>1.0</td>\n",
       "      <td>19.0</td>\n",
       "    </tr>\n",
       "    <tr>\n",
       "      <th>3</th>\n",
       "      <td>3</td>\n",
       "      <td>8.422</td>\n",
       "      <td>11.222</td>\n",
       "      <td>0</td>\n",
       "      <td>0</td>\n",
       "      <td>168</td>\n",
       "      <td>1.0</td>\n",
       "      <td>0.0</td>\n",
       "      <td>Meditron</td>\n",
       "      <td>168_1b1_Al_sc_Meditron</td>\n",
       "      <td>168_1b1_Al_sc_Meditron_3.wav</td>\n",
       "      <td>17.35</td>\n",
       "      <td>1.0</td>\n",
       "      <td>19.0</td>\n",
       "    </tr>\n",
       "    <tr>\n",
       "      <th>4</th>\n",
       "      <td>4</td>\n",
       "      <td>11.222</td>\n",
       "      <td>13.807</td>\n",
       "      <td>0</td>\n",
       "      <td>0</td>\n",
       "      <td>168</td>\n",
       "      <td>1.0</td>\n",
       "      <td>0.0</td>\n",
       "      <td>Meditron</td>\n",
       "      <td>168_1b1_Al_sc_Meditron</td>\n",
       "      <td>168_1b1_Al_sc_Meditron_4.wav</td>\n",
       "      <td>17.35</td>\n",
       "      <td>1.0</td>\n",
       "      <td>19.0</td>\n",
       "    </tr>\n",
       "    <tr>\n",
       "      <th>...</th>\n",
       "      <td>...</td>\n",
       "      <td>...</td>\n",
       "      <td>...</td>\n",
       "      <td>...</td>\n",
       "      <td>...</td>\n",
       "      <td>...</td>\n",
       "      <td>...</td>\n",
       "      <td>...</td>\n",
       "      <td>...</td>\n",
       "      <td>...</td>\n",
       "      <td>...</td>\n",
       "      <td>...</td>\n",
       "      <td>...</td>\n",
       "      <td>...</td>\n",
       "    </tr>\n",
       "    <tr>\n",
       "      <th>6893</th>\n",
       "      <td>6893</td>\n",
       "      <td>11.928</td>\n",
       "      <td>17.049</td>\n",
       "      <td>0</td>\n",
       "      <td>0</td>\n",
       "      <td>162</td>\n",
       "      <td>0.0</td>\n",
       "      <td>5.0</td>\n",
       "      <td>AKGC417L</td>\n",
       "      <td>162_2b4_Pr_mc_AKGC417L</td>\n",
       "      <td>162_2b4_Pr_mc_AKGC417L_2.wav</td>\n",
       "      <td>24.90</td>\n",
       "      <td>1.0</td>\n",
       "      <td>67.0</td>\n",
       "    </tr>\n",
       "    <tr>\n",
       "      <th>6894</th>\n",
       "      <td>6894</td>\n",
       "      <td>17.049</td>\n",
       "      <td>18.729</td>\n",
       "      <td>0</td>\n",
       "      <td>0</td>\n",
       "      <td>162</td>\n",
       "      <td>0.0</td>\n",
       "      <td>5.0</td>\n",
       "      <td>AKGC417L</td>\n",
       "      <td>162_2b4_Pr_mc_AKGC417L</td>\n",
       "      <td>162_2b4_Pr_mc_AKGC417L_3.wav</td>\n",
       "      <td>24.90</td>\n",
       "      <td>1.0</td>\n",
       "      <td>67.0</td>\n",
       "    </tr>\n",
       "    <tr>\n",
       "      <th>6895</th>\n",
       "      <td>6895</td>\n",
       "      <td>2.145</td>\n",
       "      <td>7.788</td>\n",
       "      <td>0</td>\n",
       "      <td>0</td>\n",
       "      <td>200</td>\n",
       "      <td>0.0</td>\n",
       "      <td>1.0</td>\n",
       "      <td>AKGC417L</td>\n",
       "      <td>200_2p3_Ar_mc_AKGC417L</td>\n",
       "      <td>200_2p3_Ar_mc_AKGC417L_0.wav</td>\n",
       "      <td>27.80</td>\n",
       "      <td>1.0</td>\n",
       "      <td>72.0</td>\n",
       "    </tr>\n",
       "    <tr>\n",
       "      <th>6896</th>\n",
       "      <td>6896</td>\n",
       "      <td>7.788</td>\n",
       "      <td>13.881</td>\n",
       "      <td>0</td>\n",
       "      <td>0</td>\n",
       "      <td>200</td>\n",
       "      <td>0.0</td>\n",
       "      <td>1.0</td>\n",
       "      <td>AKGC417L</td>\n",
       "      <td>200_2p3_Ar_mc_AKGC417L</td>\n",
       "      <td>200_2p3_Ar_mc_AKGC417L_1.wav</td>\n",
       "      <td>27.80</td>\n",
       "      <td>1.0</td>\n",
       "      <td>72.0</td>\n",
       "    </tr>\n",
       "    <tr>\n",
       "      <th>6897</th>\n",
       "      <td>6897</td>\n",
       "      <td>13.881</td>\n",
       "      <td>19.891</td>\n",
       "      <td>0</td>\n",
       "      <td>0</td>\n",
       "      <td>200</td>\n",
       "      <td>0.0</td>\n",
       "      <td>1.0</td>\n",
       "      <td>AKGC417L</td>\n",
       "      <td>200_2p3_Ar_mc_AKGC417L</td>\n",
       "      <td>200_2p3_Ar_mc_AKGC417L_2.wav</td>\n",
       "      <td>27.80</td>\n",
       "      <td>1.0</td>\n",
       "      <td>72.0</td>\n",
       "    </tr>\n",
       "  </tbody>\n",
       "</table>\n",
       "<p>6898 rows × 14 columns</p>\n",
       "</div>"
      ],
      "text/plain": [
       "      Unnamed: 0   start     end  crackles  weezels  pid  mode  location  \\\n",
       "0              0   0.036   2.436         0        0  168   1.0       0.0   \n",
       "1              1   2.436   5.250         0        0  168   1.0       0.0   \n",
       "2              2   5.250   8.422         0        0  168   1.0       0.0   \n",
       "3              3   8.422  11.222         0        0  168   1.0       0.0   \n",
       "4              4  11.222  13.807         0        0  168   1.0       0.0   \n",
       "...          ...     ...     ...       ...      ...  ...   ...       ...   \n",
       "6893        6893  11.928  17.049         0        0  162   0.0       5.0   \n",
       "6894        6894  17.049  18.729         0        0  162   0.0       5.0   \n",
       "6895        6895   2.145   7.788         0        0  200   0.0       1.0   \n",
       "6896        6896   7.788  13.881         0        0  200   0.0       1.0   \n",
       "6897        6897  13.881  19.891         0        0  200   0.0       1.0   \n",
       "\n",
       "     equipment                filename                  filename_new  \\\n",
       "0     Meditron  168_1b1_Al_sc_Meditron  168_1b1_Al_sc_Meditron_0.wav   \n",
       "1     Meditron  168_1b1_Al_sc_Meditron  168_1b1_Al_sc_Meditron_1.wav   \n",
       "2     Meditron  168_1b1_Al_sc_Meditron  168_1b1_Al_sc_Meditron_2.wav   \n",
       "3     Meditron  168_1b1_Al_sc_Meditron  168_1b1_Al_sc_Meditron_3.wav   \n",
       "4     Meditron  168_1b1_Al_sc_Meditron  168_1b1_Al_sc_Meditron_4.wav   \n",
       "...        ...                     ...                           ...   \n",
       "6893  AKGC417L  162_2b4_Pr_mc_AKGC417L  162_2b4_Pr_mc_AKGC417L_2.wav   \n",
       "6894  AKGC417L  162_2b4_Pr_mc_AKGC417L  162_2b4_Pr_mc_AKGC417L_3.wav   \n",
       "6895  AKGC417L  200_2p3_Ar_mc_AKGC417L  200_2p3_Ar_mc_AKGC417L_0.wav   \n",
       "6896  AKGC417L  200_2p3_Ar_mc_AKGC417L  200_2p3_Ar_mc_AKGC417L_1.wav   \n",
       "6897  AKGC417L  200_2p3_Ar_mc_AKGC417L  200_2p3_Ar_mc_AKGC417L_2.wav   \n",
       "\n",
       "      adult_bmi  sex   age  \n",
       "0         17.35  1.0  19.0  \n",
       "1         17.35  1.0  19.0  \n",
       "2         17.35  1.0  19.0  \n",
       "3         17.35  1.0  19.0  \n",
       "4         17.35  1.0  19.0  \n",
       "...         ...  ...   ...  \n",
       "6893      24.90  1.0  67.0  \n",
       "6894      24.90  1.0  67.0  \n",
       "6895      27.80  1.0  72.0  \n",
       "6896      27.80  1.0  72.0  \n",
       "6897      27.80  1.0  72.0  \n",
       "\n",
       "[6898 rows x 14 columns]"
      ]
     },
     "execution_count": 8,
     "metadata": {},
     "output_type": "execute_result"
    }
   ],
   "source": [
    "train_on_audio_df = audio_train_df.join(patient_info_df.set_index('pid')[ADDITIONAL_COLUMNS], on='pid')\n",
    "convert_categorical_data_to_numerical(train_on_audio_df, CATEGORICAL_COLUMNS)\n",
    "train_on_audio_df"
   ]
  },
  {
   "cell_type": "markdown",
   "metadata": {
    "papermill": {
     "duration": 0.018159,
     "end_time": "2021-03-09T05:34:24.158089",
     "exception": false,
     "start_time": "2021-03-09T05:34:24.139930",
     "status": "completed"
    },
    "tags": []
   },
   "source": [
    "# **PREPROCESSING AUDIO DATA AND SPLITTING INTO INPUT DATA AND LABELS**"
   ]
  },
  {
   "cell_type": "code",
   "execution_count": 9,
   "metadata": {
    "execution": {
     "iopub.execute_input": "2021-03-09T05:34:24.201819Z",
     "iopub.status.busy": "2021-03-09T05:34:24.201083Z",
     "iopub.status.idle": "2021-03-09T05:41:24.390981Z",
     "shell.execute_reply": "2021-03-09T05:41:24.391928Z"
    },
    "papermill": {
     "duration": 420.215843,
     "end_time": "2021-03-09T05:41:24.392229",
     "exception": false,
     "start_time": "2021-03-09T05:34:24.176386",
     "status": "completed"
    },
    "tags": []
   },
   "outputs": [],
   "source": [
    "labels = []\n",
    "input_data = []\n",
    "\n",
    "for idx,row in train_on_audio_df.iterrows():\n",
    "    array_from_audio = convert_audio_to_array(*sf.read(f'{PATH_TO_AUDIO_FILES}{row.filename_new}'))\n",
    "    input_data.append(np.append(array_from_audio, row[ADDITIONAL_FEATURES])) \n",
    "    labels.append(list((row['crackles'], row['weezels'])))"
   ]
  },
  {
   "cell_type": "markdown",
   "metadata": {
    "papermill": {
     "duration": 0.032162,
     "end_time": "2021-03-09T05:41:24.458058",
     "exception": false,
     "start_time": "2021-03-09T05:41:24.425896",
     "status": "completed"
    },
    "tags": []
   },
   "source": [
    "# **SPLITTING DATA INTO TRAIN AND TEST**"
   ]
  },
  {
   "cell_type": "code",
   "execution_count": 10,
   "metadata": {
    "execution": {
     "iopub.execute_input": "2021-03-09T05:41:24.532638Z",
     "iopub.status.busy": "2021-03-09T05:41:24.531913Z",
     "iopub.status.idle": "2021-03-09T05:41:24.535325Z",
     "shell.execute_reply": "2021-03-09T05:41:24.534732Z"
    },
    "papermill": {
     "duration": 0.04466,
     "end_time": "2021-03-09T05:41:24.535466",
     "exception": false,
     "start_time": "2021-03-09T05:41:24.490806",
     "status": "completed"
    },
    "tags": []
   },
   "outputs": [],
   "source": [
    "X_train, X_test, y_train, y_test = train_test_split(input_data, labels, test_size=TEST_SIZE, random_state=42)"
   ]
  },
  {
   "cell_type": "markdown",
   "metadata": {
    "papermill": {
     "duration": 0.018371,
     "end_time": "2021-03-09T05:41:24.572804",
     "exception": false,
     "start_time": "2021-03-09T05:41:24.554433",
     "status": "completed"
    },
    "tags": []
   },
   "source": [
    "# **TRAINING MULTI OUTPUT HIST GRADIENT BOOSTING**"
   ]
  },
  {
   "cell_type": "code",
   "execution_count": 11,
   "metadata": {
    "execution": {
     "iopub.execute_input": "2021-03-09T05:41:24.741318Z",
     "iopub.status.busy": "2021-03-09T05:41:24.740289Z",
     "iopub.status.idle": "2021-03-09T05:42:43.481102Z",
     "shell.execute_reply": "2021-03-09T05:42:43.481708Z"
    },
    "papermill": {
     "duration": 78.890489,
     "end_time": "2021-03-09T05:42:43.481914",
     "exception": false,
     "start_time": "2021-03-09T05:41:24.591425",
     "status": "completed"
    },
    "tags": []
   },
   "outputs": [],
   "source": [
    "clf = MultiOutputClassifier(HistGradientBoostingClassifier(max_iter=MAX_ITERATIONS, max_leaf_nodes=None)).fit(np.array(X_train), np.array(y_train))"
   ]
  },
  {
   "cell_type": "markdown",
   "metadata": {
    "papermill": {
     "duration": 0.022128,
     "end_time": "2021-03-09T05:42:43.527164",
     "exception": false,
     "start_time": "2021-03-09T05:42:43.505036",
     "status": "completed"
    },
    "tags": []
   },
   "source": [
    "# **CONVERTING PROBABILITY TO 0 AND 1 SCORES**"
   ]
  },
  {
   "cell_type": "code",
   "execution_count": 12,
   "metadata": {
    "execution": {
     "iopub.execute_input": "2021-03-09T05:42:43.597169Z",
     "iopub.status.busy": "2021-03-09T05:42:43.596471Z",
     "iopub.status.idle": "2021-03-09T05:42:43.653799Z",
     "shell.execute_reply": "2021-03-09T05:42:43.654330Z"
    },
    "papermill": {
     "duration": 0.104704,
     "end_time": "2021-03-09T05:42:43.654542",
     "exception": false,
     "start_time": "2021-03-09T05:42:43.549838",
     "status": "completed"
    },
    "tags": []
   },
   "outputs": [],
   "source": [
    "y_pred = convert_probability_to_1_0_score(clf.predict_proba(np.array(X_test)), THRESHOLD)"
   ]
  },
  {
   "cell_type": "markdown",
   "metadata": {
    "papermill": {
     "duration": 0.0221,
     "end_time": "2021-03-09T05:42:43.699732",
     "exception": false,
     "start_time": "2021-03-09T05:42:43.677632",
     "status": "completed"
    },
    "tags": []
   },
   "source": [
    "# **BUILDING MULTI LABEL CONFUSION MATRIX**"
   ]
  },
  {
   "cell_type": "code",
   "execution_count": 13,
   "metadata": {
    "execution": {
     "iopub.execute_input": "2021-03-09T05:42:43.753757Z",
     "iopub.status.busy": "2021-03-09T05:42:43.751626Z",
     "iopub.status.idle": "2021-03-09T05:42:43.764909Z",
     "shell.execute_reply": "2021-03-09T05:42:43.765976Z"
    },
    "papermill": {
     "duration": 0.044149,
     "end_time": "2021-03-09T05:42:43.766361",
     "exception": false,
     "start_time": "2021-03-09T05:42:43.722212",
     "status": "completed"
    },
    "tags": []
   },
   "outputs": [
    {
     "name": "stdout",
     "output_type": "stream",
     "text": [
      "[[[608  61]\n",
      "  [ 71 295]]\n",
      "\n",
      " [[813  59]\n",
      "  [ 27 136]]]\n"
     ]
    }
   ],
   "source": [
    "cf_matrix = multilabel_confusion_matrix(np.array(y_pred), np.array(y_test))\n",
    "print(cf_matrix)"
   ]
  },
  {
   "cell_type": "markdown",
   "metadata": {
    "papermill": {
     "duration": 0.02324,
     "end_time": "2021-03-09T05:42:43.813607",
     "exception": false,
     "start_time": "2021-03-09T05:42:43.790367",
     "status": "completed"
    },
    "tags": []
   },
   "source": [
    "# **CALCULATING AVERAGE ACCURACY**"
   ]
  },
  {
   "cell_type": "code",
   "execution_count": 14,
   "metadata": {
    "execution": {
     "iopub.execute_input": "2021-03-09T05:42:43.871920Z",
     "iopub.status.busy": "2021-03-09T05:42:43.871036Z",
     "iopub.status.idle": "2021-03-09T05:42:43.874618Z",
     "shell.execute_reply": "2021-03-09T05:42:43.872559Z"
    },
    "papermill": {
     "duration": 0.036937,
     "end_time": "2021-03-09T05:42:43.874785",
     "exception": false,
     "start_time": "2021-03-09T05:42:43.837848",
     "status": "completed"
    },
    "tags": []
   },
   "outputs": [
    {
     "name": "stdout",
     "output_type": "stream",
     "text": [
      "0.8946859903381643\n"
     ]
    }
   ],
   "source": [
    "average_accuracy = []\n",
    "for i in cf_matrix:\n",
    "    average_accuracy.append((i[1][1]+i[0][0])/(i[1][1]+i[0][0]+i[0][1]+i[1][0]))\n",
    "\n",
    "print(sum(average_accuracy)/len(average_accuracy))"
   ]
  },
  {
   "cell_type": "markdown",
   "metadata": {
    "papermill": {
     "duration": 0.024186,
     "end_time": "2021-03-09T05:42:43.922361",
     "exception": false,
     "start_time": "2021-03-09T05:42:43.898175",
     "status": "completed"
    },
    "tags": []
   },
   "source": [
    "# **CALCULATING CLASSIFICATION REPORT**"
   ]
  },
  {
   "cell_type": "code",
   "execution_count": 15,
   "metadata": {
    "execution": {
     "iopub.execute_input": "2021-03-09T05:42:43.989043Z",
     "iopub.status.busy": "2021-03-09T05:42:43.988346Z",
     "iopub.status.idle": "2021-03-09T05:42:44.003742Z",
     "shell.execute_reply": "2021-03-09T05:42:44.004791Z"
    },
    "papermill": {
     "duration": 0.058517,
     "end_time": "2021-03-09T05:42:44.004998",
     "exception": false,
     "start_time": "2021-03-09T05:42:43.946481",
     "status": "completed"
    },
    "tags": []
   },
   "outputs": [
    {
     "name": "stdout",
     "output_type": "stream",
     "text": [
      "              precision    recall  f1-score   support\n",
      "\n",
      "           0     0.8060    0.8287    0.8172       356\n",
      "           1     0.8344    0.6974    0.7598       195\n",
      "\n",
      "   micro avg     0.8147    0.7822    0.7981       551\n",
      "   macro avg     0.8202    0.7630    0.7885       551\n",
      "weighted avg     0.8160    0.7822    0.7969       551\n",
      " samples avg     0.3589    0.3565    0.3536       551\n",
      "\n"
     ]
    },
    {
     "name": "stderr",
     "output_type": "stream",
     "text": [
      "/opt/conda/lib/python3.7/site-packages/sklearn/metrics/_classification.py:1221: UndefinedMetricWarning: Precision and F-score are ill-defined and being set to 0.0 in samples with no predicted labels. Use `zero_division` parameter to control this behavior.\n",
      "  _warn_prf(average, modifier, msg_start, len(result))\n",
      "/opt/conda/lib/python3.7/site-packages/sklearn/metrics/_classification.py:1221: UndefinedMetricWarning: Recall and F-score are ill-defined and being set to 0.0 in samples with no true labels. Use `zero_division` parameter to control this behavior.\n",
      "  _warn_prf(average, modifier, msg_start, len(result))\n"
     ]
    }
   ],
   "source": [
    "print(classification_report(y_test, y_pred, digits=4))"
   ]
  },
  {
   "cell_type": "markdown",
   "metadata": {
    "papermill": {
     "duration": 0.024095,
     "end_time": "2021-03-09T05:42:44.054390",
     "exception": false,
     "start_time": "2021-03-09T05:42:44.030295",
     "status": "completed"
    },
    "tags": []
   },
   "source": [
    "# **MODEL SAVING**"
   ]
  },
  {
   "cell_type": "code",
   "execution_count": 16,
   "metadata": {
    "execution": {
     "iopub.execute_input": "2021-03-09T05:42:44.119760Z",
     "iopub.status.busy": "2021-03-09T05:42:44.119033Z",
     "iopub.status.idle": "2021-03-09T05:42:44.140048Z",
     "shell.execute_reply": "2021-03-09T05:42:44.141032Z"
    },
    "papermill": {
     "duration": 0.062096,
     "end_time": "2021-03-09T05:42:44.141265",
     "exception": false,
     "start_time": "2021-03-09T05:42:44.079169",
     "status": "completed"
    },
    "tags": []
   },
   "outputs": [],
   "source": [
    "with open(FILE_NAME_TO_SAVE_MODEL, 'wb') as file:\n",
    "    pickle.dump(clf, file)"
   ]
  }
 ],
 "metadata": {
  "kernelspec": {
   "display_name": "Python 3",
   "language": "python",
   "name": "python3"
  },
  "language_info": {
   "codemirror_mode": {
    "name": "ipython",
    "version": 3
   },
   "file_extension": ".py",
   "mimetype": "text/x-python",
   "name": "python",
   "nbconvert_exporter": "python",
   "pygments_lexer": "ipython3",
   "version": "3.7.9"
  },
  "papermill": {
   "default_parameters": {},
   "duration": 510.550978,
   "end_time": "2021-03-09T05:42:45.381078",
   "environment_variables": {},
   "exception": null,
   "input_path": "__notebook__.ipynb",
   "output_path": "__notebook__.ipynb",
   "parameters": {},
   "start_time": "2021-03-09T05:34:14.830100",
   "version": "2.2.2"
  }
 },
 "nbformat": 4,
 "nbformat_minor": 4
}
